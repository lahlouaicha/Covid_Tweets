{
  "nbformat": 4,
  "nbformat_minor": 0,
  "metadata": {
    "colab": {
      "name": "2.1 Location analysis .ipynb",
      "provenance": [],
      "collapsed_sections": [],
      "toc_visible": true
    },
    "kernelspec": {
      "name": "python3",
      "display_name": "Python 3"
    }
  },
  "cells": [
    {
      "cell_type": "markdown",
      "metadata": {
        "id": "4YjjyC07pctZ"
      },
      "source": [
        "# I. Import librairies"
      ]
    },
    {
      "cell_type": "code",
      "metadata": {
        "colab": {
          "base_uri": "https://localhost:8080/"
        },
        "id": "sFzFLstimwd2",
        "outputId": "1314d937-0ee8-4d09-e469-2d1fb5f2da44"
      },
      "source": [
        "from google.colab import drive\r\n",
        "drive.mount('/content/drive/')"
      ],
      "execution_count": null,
      "outputs": [
        {
          "output_type": "stream",
          "text": [
            "Mounted at /content/drive/\n"
          ],
          "name": "stdout"
        }
      ]
    },
    {
      "cell_type": "code",
      "metadata": {
        "id": "kWmq0du5m4nX"
      },
      "source": [
        "import pandas as pd\r\n",
        "import numpy as np\r\n",
        "from geopy.geocoders import Nominatim"
      ],
      "execution_count": null,
      "outputs": []
    },
    {
      "cell_type": "markdown",
      "metadata": {
        "id": "bgcdEEjApoeV"
      },
      "source": [
        "# II. Import dataset"
      ]
    },
    {
      "cell_type": "code",
      "metadata": {
        "id": "C_B3x9smncU3"
      },
      "source": [
        "df = pd.read_csv('/content/drive/My Drive/Data Mining Project/Final Files/Data/Location.csv')"
      ],
      "execution_count": null,
      "outputs": []
    },
    {
      "cell_type": "code",
      "metadata": {
        "colab": {
          "base_uri": "https://localhost:8080/",
          "height": 202
        },
        "id": "2-qKrGjknhkr",
        "outputId": "decda6f8-a6a0-4866-df90-ff42f9dab11b"
      },
      "source": [
        "df.head()"
      ],
      "execution_count": null,
      "outputs": [
        {
          "output_type": "execute_result",
          "data": {
            "text/html": [
              "<div>\n",
              "<style scoped>\n",
              "    .dataframe tbody tr th:only-of-type {\n",
              "        vertical-align: middle;\n",
              "    }\n",
              "\n",
              "    .dataframe tbody tr th {\n",
              "        vertical-align: top;\n",
              "    }\n",
              "\n",
              "    .dataframe thead th {\n",
              "        text-align: right;\n",
              "    }\n",
              "</style>\n",
              "<table border=\"1\" class=\"dataframe\">\n",
              "  <thead>\n",
              "    <tr style=\"text-align: right;\">\n",
              "      <th></th>\n",
              "      <th>Unnamed: 0</th>\n",
              "      <th>Location</th>\n",
              "      <th>Occurrence</th>\n",
              "    </tr>\n",
              "  </thead>\n",
              "  <tbody>\n",
              "    <tr>\n",
              "      <th>0</th>\n",
              "      <td>0</td>\n",
              "      <td>United States</td>\n",
              "      <td>36566</td>\n",
              "    </tr>\n",
              "    <tr>\n",
              "      <th>1</th>\n",
              "      <td>1</td>\n",
              "      <td>Washington, DC</td>\n",
              "      <td>19660</td>\n",
              "    </tr>\n",
              "    <tr>\n",
              "      <th>2</th>\n",
              "      <td>2</td>\n",
              "      <td>New York, NY</td>\n",
              "      <td>18012</td>\n",
              "    </tr>\n",
              "    <tr>\n",
              "      <th>3</th>\n",
              "      <td>3</td>\n",
              "      <td>Los Angeles, CA</td>\n",
              "      <td>15733</td>\n",
              "    </tr>\n",
              "    <tr>\n",
              "      <th>4</th>\n",
              "      <td>4</td>\n",
              "      <td>USA</td>\n",
              "      <td>15261</td>\n",
              "    </tr>\n",
              "  </tbody>\n",
              "</table>\n",
              "</div>"
            ],
            "text/plain": [
              "   Unnamed: 0         Location  Occurrence\n",
              "0           0    United States       36566\n",
              "1           1   Washington, DC       19660\n",
              "2           2     New York, NY       18012\n",
              "3           3  Los Angeles, CA       15733\n",
              "4           4              USA       15261"
            ]
          },
          "metadata": {
            "tags": []
          },
          "execution_count": 5
        }
      ]
    },
    {
      "cell_type": "markdown",
      "metadata": {
        "id": "1S6J4FDar3qy"
      },
      "source": [
        "# III. Definition and application of transformation functions"
      ]
    },
    {
      "cell_type": "code",
      "metadata": {
        "id": "L7cmEbr8nX0d"
      },
      "source": [
        "geolocator = Nominatim(user_agent=\"SD701\", timeout=None)\r\n",
        "\r\n",
        "def get_latitude(x):\r\n",
        "  localisation = geolocator.geocode(str(x))\r\n",
        "  if localisation is None:\r\n",
        "      return ''\r\n",
        "  else:\r\n",
        "      return localisation.latitude\r\n",
        "\r\n",
        "def get_longitude(x):\r\n",
        "  localisation = geolocator.geocode(str(x))\r\n",
        "  if localisation is None:\r\n",
        "      return ''\r\n",
        "  else:\r\n",
        "      return localisation.longitude\r\n",
        "\r\n",
        "def get_country(data):\r\n",
        "     data['Country'] = data['Latitude'].apply(lambda x: str(x)) + \",\" + data['Longitude'].apply(lambda x: str(x))\r\n",
        "     data['Country'] = data['Country'].apply(lambda x: geolocator.reverse(x).raw['address'].get('country', '') if x != ',' else '')\r\n",
        "     return data"
      ],
      "execution_count": null,
      "outputs": []
    },
    {
      "cell_type": "code",
      "metadata": {
        "id": "rWW7N9QuH2h4"
      },
      "source": [
        "def get_country(position):\r\n",
        "  localisation = geolocator.reverse(str(position))\r\n",
        "  if localisation is None: \r\n",
        "    return ''\r\n",
        "  else: \r\n",
        "    if  localisation.raw['address']:\r\n",
        "      return localisation.raw['address'].get('country', '')\r\n",
        "    else: \r\n",
        "      return ''"
      ],
      "execution_count": null,
      "outputs": []
    },
    {
      "cell_type": "code",
      "metadata": {
        "id": "1INC1gWtIJF8"
      },
      "source": [
        "df['Position'] = df['Latitude'].apply(lambda x: str(x)) + \",\" + df['Longitude'].apply(lambda x: str(x))"
      ],
      "execution_count": null,
      "outputs": []
    },
    {
      "cell_type": "code",
      "metadata": {
        "colab": {
          "base_uri": "https://localhost:8080/"
        },
        "id": "ujomwPTaISPq",
        "outputId": "5b5e1c6a-65f1-4082-9745-310bce6f93ed"
      },
      "source": [
        "df['Position'].head().apply(lambda x: get_country(x))"
      ],
      "execution_count": null,
      "outputs": [
        {
          "output_type": "execute_result",
          "data": {
            "text/plain": [
              "0    United States of America\n",
              "1    United States of America\n",
              "2    United States of America\n",
              "3    United States of America\n",
              "4    United States of America\n",
              "Name: Position, dtype: object"
            ]
          },
          "metadata": {
            "tags": []
          },
          "execution_count": 37
        }
      ]
    },
    {
      "cell_type": "code",
      "metadata": {
        "id": "_EWHxcH5nbYY"
      },
      "source": [
        "# Add features longitude and latitude to dataframe \r\n",
        "df[\"Latitude\"] = df[\"Location\"].apply(lambda x: get_latitude(x))\r\n",
        "df[\"Longitude\"] = df[\"Location\"].apply(lambda x: get_longitude(x))"
      ],
      "execution_count": null,
      "outputs": []
    },
    {
      "cell_type": "code",
      "metadata": {
        "id": "Y87MnbsdIeyi"
      },
      "source": [
        "df['Position'] = df['Latitude'].apply(lambda x: str(x)) + \",\" + df['Longitude'].apply(lambda x: str(x))\r\n",
        "df ['Country'] = df['Position'].apply(lambda x: get_country(x))"
      ],
      "execution_count": null,
      "outputs": []
    },
    {
      "cell_type": "code",
      "metadata": {
        "colab": {
          "base_uri": "https://localhost:8080/",
          "height": 202
        },
        "id": "O8w-FirOCE_r",
        "outputId": "9e2487ad-445e-46c7-df32-9c291c77d6fe"
      },
      "source": [
        "df.head()"
      ],
      "execution_count": null,
      "outputs": [
        {
          "output_type": "execute_result",
          "data": {
            "text/html": [
              "<div>\n",
              "<style scoped>\n",
              "    .dataframe tbody tr th:only-of-type {\n",
              "        vertical-align: middle;\n",
              "    }\n",
              "\n",
              "    .dataframe tbody tr th {\n",
              "        vertical-align: top;\n",
              "    }\n",
              "\n",
              "    .dataframe thead th {\n",
              "        text-align: right;\n",
              "    }\n",
              "</style>\n",
              "<table border=\"1\" class=\"dataframe\">\n",
              "  <thead>\n",
              "    <tr style=\"text-align: right;\">\n",
              "      <th></th>\n",
              "      <th>Unnamed: 0</th>\n",
              "      <th>Location</th>\n",
              "      <th>Occurrence</th>\n",
              "      <th>Latitude</th>\n",
              "      <th>Longitude</th>\n",
              "      <th>Country</th>\n",
              "      <th>Position</th>\n",
              "    </tr>\n",
              "  </thead>\n",
              "  <tbody>\n",
              "    <tr>\n",
              "      <th>0</th>\n",
              "      <td>0</td>\n",
              "      <td>United States</td>\n",
              "      <td>36566</td>\n",
              "      <td>39.7837</td>\n",
              "      <td>-100.446</td>\n",
              "      <td>39.7837304,-100.4458825</td>\n",
              "      <td>39.7837304,-100.4458825</td>\n",
              "    </tr>\n",
              "    <tr>\n",
              "      <th>1</th>\n",
              "      <td>1</td>\n",
              "      <td>Washington, DC</td>\n",
              "      <td>19660</td>\n",
              "      <td>38.895</td>\n",
              "      <td>-77.0366</td>\n",
              "      <td>38.8949924,-77.0365581</td>\n",
              "      <td>38.8949924,-77.0365581</td>\n",
              "    </tr>\n",
              "    <tr>\n",
              "      <th>2</th>\n",
              "      <td>2</td>\n",
              "      <td>New York, NY</td>\n",
              "      <td>18012</td>\n",
              "      <td>40.7127</td>\n",
              "      <td>-74.006</td>\n",
              "      <td>40.7127281,-74.0060152</td>\n",
              "      <td>40.7127281,-74.0060152</td>\n",
              "    </tr>\n",
              "    <tr>\n",
              "      <th>3</th>\n",
              "      <td>3</td>\n",
              "      <td>Los Angeles, CA</td>\n",
              "      <td>15733</td>\n",
              "      <td>34.0537</td>\n",
              "      <td>-118.243</td>\n",
              "      <td>34.0536909,-118.242766</td>\n",
              "      <td>34.0536909,-118.242766</td>\n",
              "    </tr>\n",
              "    <tr>\n",
              "      <th>4</th>\n",
              "      <td>4</td>\n",
              "      <td>USA</td>\n",
              "      <td>15261</td>\n",
              "      <td>39.7837</td>\n",
              "      <td>-100.446</td>\n",
              "      <td>39.7837304,-100.4458825</td>\n",
              "      <td>39.7837304,-100.4458825</td>\n",
              "    </tr>\n",
              "  </tbody>\n",
              "</table>\n",
              "</div>"
            ],
            "text/plain": [
              "   Unnamed: 0  ...                 Position\n",
              "0           0  ...  39.7837304,-100.4458825\n",
              "1           1  ...   38.8949924,-77.0365581\n",
              "2           2  ...   40.7127281,-74.0060152\n",
              "3           3  ...   34.0536909,-118.242766\n",
              "4           4  ...  39.7837304,-100.4458825\n",
              "\n",
              "[5 rows x 7 columns]"
            ]
          },
          "metadata": {
            "tags": []
          },
          "execution_count": 43
        }
      ]
    },
    {
      "cell_type": "code",
      "metadata": {
        "id": "7MMSvsmYER03"
      },
      "source": [
        "df =  df.loc[df['Latitude']!= '']\r\n",
        "df =  df.loc[df['Longitude']!= '']"
      ],
      "execution_count": null,
      "outputs": []
    },
    {
      "cell_type": "code",
      "metadata": {
        "id": "H-Kzma_sCK8B"
      },
      "source": [
        "get_country(df.head())"
      ],
      "execution_count": null,
      "outputs": []
    },
    {
      "cell_type": "code",
      "metadata": {
        "id": "1-Xnn1LlrjY7"
      },
      "source": [
        "# Add country to the dataframe \r\n",
        "df = get_country(df)"
      ],
      "execution_count": null,
      "outputs": []
    },
    {
      "cell_type": "code",
      "metadata": {
        "colab": {
          "base_uri": "https://localhost:8080/"
        },
        "id": "82MfLTOcEEq9",
        "outputId": "32ed3005-3891-4788-90ad-7a93c95960dd"
      },
      "source": [
        "df['Country'].unique()"
      ],
      "execution_count": null,
      "outputs": [
        {
          "output_type": "execute_result",
          "data": {
            "text/plain": [
              "array(['39.7837304,-100.4458825', '38.8949924,-77.0365581',\n",
              "       '40.7127281,-74.0060152', ..., '40.7464906,-74.0015283',\n",
              "       '28.756618000000003,-81.33888382214167',\n",
              "       '42.25092615,-83.73143257518268'], dtype=object)"
            ]
          },
          "metadata": {
            "tags": []
          },
          "execution_count": 25
        }
      ]
    },
    {
      "cell_type": "markdown",
      "metadata": {
        "id": "BGl68kRtr_uv"
      },
      "source": [
        "# IV. Filter and export the dataset"
      ]
    },
    {
      "cell_type": "code",
      "metadata": {
        "id": "EVnpDbeoruzR"
      },
      "source": [
        "df = df[['Location', 'Latitude', 'Longitude', 'Country']]"
      ],
      "execution_count": null,
      "outputs": []
    },
    {
      "cell_type": "code",
      "metadata": {
        "colab": {
          "base_uri": "https://localhost:8080/",
          "height": 202
        },
        "id": "7-Z_AAF-tsNd",
        "outputId": "586e44fc-219e-41eb-8b4c-6cc46dd98836"
      },
      "source": [
        "df.head()"
      ],
      "execution_count": null,
      "outputs": [
        {
          "output_type": "execute_result",
          "data": {
            "text/html": [
              "<div>\n",
              "<style scoped>\n",
              "    .dataframe tbody tr th:only-of-type {\n",
              "        vertical-align: middle;\n",
              "    }\n",
              "\n",
              "    .dataframe tbody tr th {\n",
              "        vertical-align: top;\n",
              "    }\n",
              "\n",
              "    .dataframe thead th {\n",
              "        text-align: right;\n",
              "    }\n",
              "</style>\n",
              "<table border=\"1\" class=\"dataframe\">\n",
              "  <thead>\n",
              "    <tr style=\"text-align: right;\">\n",
              "      <th></th>\n",
              "      <th>Location</th>\n",
              "      <th>Latitude</th>\n",
              "      <th>Longitude</th>\n",
              "      <th>Country</th>\n",
              "    </tr>\n",
              "  </thead>\n",
              "  <tbody>\n",
              "    <tr>\n",
              "      <th>0</th>\n",
              "      <td>United States</td>\n",
              "      <td>39.7837</td>\n",
              "      <td>-100.446</td>\n",
              "      <td>39.7837304,-100.4458825</td>\n",
              "    </tr>\n",
              "    <tr>\n",
              "      <th>1</th>\n",
              "      <td>Washington, DC</td>\n",
              "      <td>38.895</td>\n",
              "      <td>-77.0366</td>\n",
              "      <td>38.8949924,-77.0365581</td>\n",
              "    </tr>\n",
              "    <tr>\n",
              "      <th>2</th>\n",
              "      <td>New York, NY</td>\n",
              "      <td>40.7127</td>\n",
              "      <td>-74.006</td>\n",
              "      <td>40.7127281,-74.0060152</td>\n",
              "    </tr>\n",
              "    <tr>\n",
              "      <th>3</th>\n",
              "      <td>Los Angeles, CA</td>\n",
              "      <td>34.0537</td>\n",
              "      <td>-118.243</td>\n",
              "      <td>34.0536909,-118.242766</td>\n",
              "    </tr>\n",
              "    <tr>\n",
              "      <th>4</th>\n",
              "      <td>USA</td>\n",
              "      <td>39.7837</td>\n",
              "      <td>-100.446</td>\n",
              "      <td>39.7837304,-100.4458825</td>\n",
              "    </tr>\n",
              "  </tbody>\n",
              "</table>\n",
              "</div>"
            ],
            "text/plain": [
              "          Location Latitude Longitude                  Country\n",
              "0    United States  39.7837  -100.446  39.7837304,-100.4458825\n",
              "1   Washington, DC   38.895  -77.0366   38.8949924,-77.0365581\n",
              "2     New York, NY  40.7127   -74.006   40.7127281,-74.0060152\n",
              "3  Los Angeles, CA  34.0537  -118.243   34.0536909,-118.242766\n",
              "4              USA  39.7837  -100.446  39.7837304,-100.4458825"
            ]
          },
          "metadata": {
            "tags": []
          },
          "execution_count": 45
        }
      ]
    },
    {
      "cell_type": "code",
      "metadata": {
        "id": "TDcyLW84n2Q2"
      },
      "source": [
        "df.to_csv('/content/drive/My Drive/Data Mining Project/Final Files/Data/Location_enriched.csv')"
      ],
      "execution_count": null,
      "outputs": []
    }
  ]
}