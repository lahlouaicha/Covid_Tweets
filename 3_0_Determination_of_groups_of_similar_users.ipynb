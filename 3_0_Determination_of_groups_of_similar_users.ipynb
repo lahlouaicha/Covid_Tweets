{
  "nbformat": 4,
  "nbformat_minor": 0,
  "metadata": {
    "colab": {
      "name": "3.0 Determination of groups of similar users",
      "provenance": [],
      "collapsed_sections": [
        "rD4a8IYV5SVm",
        "CNNhxqTeiJn9"
      ],
      "toc_visible": true
    },
    "kernelspec": {
      "display_name": "Python 3",
      "name": "python3"
    }
  },
  "cells": [
    {
      "cell_type": "markdown",
      "metadata": {
        "id": "rD4a8IYV5SVm"
      },
      "source": [
        "# I.Import Librairies"
      ]
    },
    {
      "cell_type": "code",
      "metadata": {
        "colab": {
          "base_uri": "https://localhost:8080/"
        },
        "id": "v2BIfqjrYq7m",
        "outputId": "6efecc3a-85e3-46cc-bca3-bf3a61f38299"
      },
      "source": [
        "from google.colab import drive\n",
        "drive.mount('/content/drive/')"
      ],
      "execution_count": null,
      "outputs": [
        {
          "output_type": "stream",
          "text": [
            "Drive already mounted at /content/drive/; to attempt to forcibly remount, call drive.mount(\"/content/drive/\", force_remount=True).\n"
          ],
          "name": "stdout"
        }
      ]
    },
    {
      "cell_type": "code",
      "metadata": {
        "id": "izXnlWNsPGaI",
        "colab": {
          "base_uri": "https://localhost:8080/"
        },
        "outputId": "eb409ca0-69f6-49af-d240-83d28ba8adce"
      },
      "source": [
        "!pip install pyproj==1.9.6\r\n",
        "!apt-get install -q libgeos-3.5.0\r\n",
        "!apt-get install -q libgeos-dev\r\n",
        "!pip install -q https://github.com/matplotlib/basemap/archive/master.zip\r\n",
        "!pip install -q pyproj==1.9.6\r\n",
        "\r\n",
        "!pip install pyspellchecker\r\n",
        "!pip install emoji\r\n",
        "!pip install spacy"
      ],
      "execution_count": null,
      "outputs": [
        {
          "output_type": "stream",
          "text": [
            "Requirement already satisfied: pyproj==1.9.6 in /usr/local/lib/python3.6/dist-packages (1.9.6)\n",
            "Reading package lists...\n",
            "Building dependency tree...\n",
            "Reading state information...\n",
            "E: Unable to locate package libgeos-3.5.0\n",
            "E: Couldn't find any package by glob 'libgeos-3.5.0'\n",
            "E: Couldn't find any package by regex 'libgeos-3.5.0'\n",
            "Reading package lists...\n",
            "Building dependency tree...\n",
            "Reading state information...\n",
            "libgeos-dev is already the newest version (3.6.2-1build2).\n",
            "0 upgraded, 0 newly installed, 0 to remove and 15 not upgraded.\n",
            "  Building wheel for basemap (setup.py) ... \u001b[?25l\u001b[?25hdone\n",
            "Requirement already satisfied: pyspellchecker in /usr/local/lib/python3.6/dist-packages (0.5.5)\n",
            "Requirement already satisfied: emoji in /usr/local/lib/python3.6/dist-packages (0.6.0)\n",
            "Requirement already satisfied: spacy in /usr/local/lib/python3.6/dist-packages (2.2.4)\n",
            "Requirement already satisfied: plac<1.2.0,>=0.9.6 in /usr/local/lib/python3.6/dist-packages (from spacy) (1.1.3)\n",
            "Requirement already satisfied: requests<3.0.0,>=2.13.0 in /usr/local/lib/python3.6/dist-packages (from spacy) (2.23.0)\n",
            "Requirement already satisfied: tqdm<5.0.0,>=4.38.0 in /usr/local/lib/python3.6/dist-packages (from spacy) (4.41.1)\n",
            "Requirement already satisfied: srsly<1.1.0,>=1.0.2 in /usr/local/lib/python3.6/dist-packages (from spacy) (1.0.5)\n",
            "Requirement already satisfied: setuptools in /usr/local/lib/python3.6/dist-packages (from spacy) (51.0.0)\n",
            "Requirement already satisfied: numpy>=1.15.0 in /usr/local/lib/python3.6/dist-packages (from spacy) (1.19.4)\n",
            "Requirement already satisfied: wasabi<1.1.0,>=0.4.0 in /usr/local/lib/python3.6/dist-packages (from spacy) (0.8.0)\n",
            "Requirement already satisfied: murmurhash<1.1.0,>=0.28.0 in /usr/local/lib/python3.6/dist-packages (from spacy) (1.0.5)\n",
            "Requirement already satisfied: thinc==7.4.0 in /usr/local/lib/python3.6/dist-packages (from spacy) (7.4.0)\n",
            "Requirement already satisfied: catalogue<1.1.0,>=0.0.7 in /usr/local/lib/python3.6/dist-packages (from spacy) (1.0.0)\n",
            "Requirement already satisfied: preshed<3.1.0,>=3.0.2 in /usr/local/lib/python3.6/dist-packages (from spacy) (3.0.5)\n",
            "Requirement already satisfied: cymem<2.1.0,>=2.0.2 in /usr/local/lib/python3.6/dist-packages (from spacy) (2.0.5)\n",
            "Requirement already satisfied: blis<0.5.0,>=0.4.0 in /usr/local/lib/python3.6/dist-packages (from spacy) (0.4.1)\n",
            "Requirement already satisfied: chardet<4,>=3.0.2 in /usr/local/lib/python3.6/dist-packages (from requests<3.0.0,>=2.13.0->spacy) (3.0.4)\n",
            "Requirement already satisfied: urllib3!=1.25.0,!=1.25.1,<1.26,>=1.21.1 in /usr/local/lib/python3.6/dist-packages (from requests<3.0.0,>=2.13.0->spacy) (1.24.3)\n",
            "Requirement already satisfied: idna<3,>=2.5 in /usr/local/lib/python3.6/dist-packages (from requests<3.0.0,>=2.13.0->spacy) (2.10)\n",
            "Requirement already satisfied: certifi>=2017.4.17 in /usr/local/lib/python3.6/dist-packages (from requests<3.0.0,>=2.13.0->spacy) (2020.12.5)\n",
            "Requirement already satisfied: importlib-metadata>=0.20; python_version < \"3.8\" in /usr/local/lib/python3.6/dist-packages (from catalogue<1.1.0,>=0.0.7->spacy) (3.3.0)\n",
            "Requirement already satisfied: zipp>=0.5 in /usr/local/lib/python3.6/dist-packages (from importlib-metadata>=0.20; python_version < \"3.8\"->catalogue<1.1.0,>=0.0.7->spacy) (3.4.0)\n",
            "Requirement already satisfied: typing-extensions>=3.6.4; python_version < \"3.8\" in /usr/local/lib/python3.6/dist-packages (from importlib-metadata>=0.20; python_version < \"3.8\"->catalogue<1.1.0,>=0.0.7->spacy) (3.7.4.3)\n"
          ],
          "name": "stdout"
        }
      ]
    },
    {
      "cell_type": "code",
      "metadata": {
        "id": "Ru3tVbvGYkLo",
        "colab": {
          "base_uri": "https://localhost:8080/"
        },
        "outputId": "9086ca31-7e4f-4b34-9fea-7da79d85dff3"
      },
      "source": [
        "import pandas as pd\n",
        "import numpy as np\n",
        "import seaborn as sns \n",
        "import matplotlib.pyplot as plt\n",
        "import matplotlib.dates as mdates\n",
        "import datetime\n",
        "import re\n",
        "from geopy.geocoders import Nominatim\n",
        "from datetime import date\n",
        "from sklearn.decomposition import PCA\n",
        "from sklearn.preprocessing import StandardScaler\n",
        "from sklearn.cluster import KMeans\n",
        "from mpl_toolkits.mplot3d import Axes3D\n",
        "from scipy.cluster.vq import kmeans,vq\n",
        "from mpl_toolkits.basemap import Basemap\n",
        "import collections\n",
        "import os\n",
        "import string\n",
        "import sys\n",
        "import scipy\n",
        "import spellchecker\n",
        "import emoji\n",
        "import spacy\n",
        "import nltk\n",
        "nltk.download('punkt')\n",
        "nltk.download('averaged_perceptron_tagger')\n",
        "nltk.download('wordnet')\n",
        "nltk.download('stopwords')\n",
        "nltk.download('words')\n",
        "nltk.download('vader_lexicon')\n",
        "from nltk.sentiment.vader import SentimentIntensityAnalyzer\n",
        "sid = SentimentIntensityAnalyzer()\n",
        "from wordcloud import WordCloud, STOPWORDS"
      ],
      "execution_count": null,
      "outputs": [
        {
          "output_type": "stream",
          "text": [
            "[nltk_data] Downloading package punkt to /root/nltk_data...\n",
            "[nltk_data]   Package punkt is already up-to-date!\n",
            "[nltk_data] Downloading package averaged_perceptron_tagger to\n",
            "[nltk_data]     /root/nltk_data...\n",
            "[nltk_data]   Package averaged_perceptron_tagger is already up-to-\n",
            "[nltk_data]       date!\n",
            "[nltk_data] Downloading package wordnet to /root/nltk_data...\n",
            "[nltk_data]   Package wordnet is already up-to-date!\n",
            "[nltk_data] Downloading package stopwords to /root/nltk_data...\n",
            "[nltk_data]   Package stopwords is already up-to-date!\n",
            "[nltk_data] Downloading package words to /root/nltk_data...\n",
            "[nltk_data]   Package words is already up-to-date!\n",
            "[nltk_data] Downloading package vader_lexicon to /root/nltk_data...\n",
            "[nltk_data]   Package vader_lexicon is already up-to-date!\n"
          ],
          "name": "stdout"
        },
        {
          "output_type": "stream",
          "text": [
            "/usr/local/lib/python3.6/dist-packages/nltk/twitter/__init__.py:20: UserWarning: The twython library has not been installed. Some functionality from the twitter package will not be available.\n",
            "  warnings.warn(\"The twython library has not been installed. \"\n"
          ],
          "name": "stderr"
        }
      ]
    },
    {
      "cell_type": "markdown",
      "metadata": {
        "id": "oK6dkHb-5vW1"
      },
      "source": [
        "\r\n",
        "# II. Definition of useful functions"
      ]
    },
    {
      "cell_type": "code",
      "metadata": {
        "id": "b9wBoRWAXkkI"
      },
      "source": [
        "def get_original_data():\r\n",
        "  df1 = pd.read_csv('/content/drive/My Drive/Data Mining Project/Final Files/Data/data_1.csv', engine='python' )\r\n",
        "  df2 = pd.read_csv('/content/drive/My Drive/Data Mining Project/Final Files/Data/data_2.csv', engine='python' )\r\n",
        "  df3 = pd.read_csv('/content/drive/My Drive/Data Mining Project/Final Files/Data/data_3.csv', engine='python' )\r\n",
        "  df4 = pd.read_csv('/content/drive/My Drive/Data Mining Project/Final Files/Data/data_4.csv', engine='python' )\r\n",
        "  df5 = pd.read_csv('/content/drive/My Drive/Data Mining Project/Final Files/Data/data_5.csv', engine='python' )\r\n",
        "  df6 = pd.read_csv('/content/drive/My Drive/Data Mining Project/Final Files/Data/data_6.csv', engine='python' )\r\n",
        "  frames = [df1, df2, df3, df4, df5, df6]\r\n",
        "  df = pd.concat(frames)\r\n",
        "  return df "
      ],
      "execution_count": null,
      "outputs": []
    },
    {
      "cell_type": "code",
      "metadata": {
        "id": "yZyzAI2eaEUF"
      },
      "source": [
        "def get_cleaned_data():\r\n",
        "  # Get original dataset\r\n",
        "  df = get_original_data()\r\n",
        "\r\n",
        "  # Drop null values\r\n",
        "  df = df.dropna()\r\n",
        "\r\n",
        "  # Filter on dates that are usable\r\n",
        "  df = df.loc[df['Date'].apply(lambda x : len(x)) ==10]\r\n",
        "  df['Date'] = pd.to_datetime(df['Date'])\r\n",
        "\r\n",
        "  # Change the type of User Created_At to date\r\n",
        "  df['User Created_At'] = pd.to_datetime(df['User Created_At'])\r\n",
        "  df['Created_At'] = pd.to_datetime(df['Created_At'])\r\n",
        "\r\n",
        "  # Clean boolean features \r\n",
        "\r\n",
        "  dico_bool ={ 'False': False, 'True': True, False: False, True: True}\r\n",
        "  df[\"Verified\"] = df['Verified'].apply(lambda x : dico_bool[x])\r\n",
        "  df['Retweeted.1'] = df['Retweeted.1'].apply(lambda x : dico_bool[x])\r\n",
        "  df['Retweeted'] = df['Retweeted'].apply(lambda x : dico_bool[x])\r\n",
        "\r\n",
        "  return df"
      ],
      "execution_count": null,
      "outputs": []
    },
    {
      "cell_type": "code",
      "metadata": {
        "id": "5-ETevWiX04S"
      },
      "source": [
        "def get_enriched_data():\r\n",
        "  df = get_cleaned_data()\r\n",
        "\r\n",
        "  # Add geographic features\r\n",
        "  loc = pd.read_csv('/content/drive/My Drive/Data Mining Project/Final Files/Data/Location_enriched.csv')\r\n",
        "  df = df.merge(loc, how = 'left', on = 'Location')\r\n",
        "\r\n",
        "  # Add dates features\r\n",
        "  column_dates = ['Date', 'User Created_At', 'Created_At']\r\n",
        "\r\n",
        "  today = date.today()\r\n",
        "\r\n",
        "  for col in column_dates: \r\n",
        "    df['Age of '+ col] = (today - pd.to_datetime(df[col]).apply(lambda x: x.date()) )\r\n",
        "    df['Weekday of '+ col ] = pd.to_datetime(df[col]).apply(lambda x: x.weekday())\r\n",
        "    df['Month of '+ col ] = pd.to_datetime(df[col]).apply(lambda x: x.month)                                                  \r\n",
        " \r\n",
        "  return df "
      ],
      "execution_count": null,
      "outputs": []
    },
    {
      "cell_type": "code",
      "metadata": {
        "id": "woQC2bz9YAV2"
      },
      "source": [
        "def repartition (column):\r\n",
        "  df_repartition = df[column].value_counts().reset_index()\r\n",
        "  print(\"The number of unique values of \", column, \" is: \", len(df_repartition))\r\n",
        "  df_repartition.columns  = [column, \"Number of Tweets\"]\r\n",
        "  df_repartition[column] = df_repartition[column].apply(lambda x: str(x))\r\n",
        "  df_repartition[\"Number of Tweets\"] = df_repartition[\"Number of Tweets\"]\r\n",
        "  fig = plt.figure(figsize=(20,20))\r\n",
        "  sns.barplot(x = 'Number of Tweets',  y = column, data = df_repartition.head(40), palette = \"flare\");\r\n",
        "  plt.title('Occurence of top values of ' +str( column))\r\n",
        "  plt.show()\r\n",
        "  print(df_repartition.head(20))"
      ],
      "execution_count": null,
      "outputs": []
    },
    {
      "cell_type": "code",
      "metadata": {
        "id": "PZhFdZn3YCrv"
      },
      "source": [
        "def repartition_in_percentage (column):\r\n",
        "  df_repartition = df[column].value_counts().reset_index()\r\n",
        "  print(\"The number of unique values of \", column, \" is: \", len(df_repartition))\r\n",
        "  df_repartition.columns  = [column, \"Percentage of Tweets\"]\r\n",
        "  df_repartition[column] = df_repartition[column].apply(lambda x: str(x))\r\n",
        "  fig = plt.figure(figsize=(20,20))\r\n",
        "  df_repartition[\"Percentage of Tweets\"] = df_repartition[\"Percentage of Tweets\"]/len(df)*100\r\n",
        "  sns.barplot(x = 'Percentage of Tweets',  y = column, data = df_repartition.head(40), palette = \"flare\");\r\n",
        "  plt.title('Percentatge of top values of ' + str(column))\r\n",
        "  plt.show()\r\n",
        "  print(df_repartition.head(20))"
      ],
      "execution_count": null,
      "outputs": []
    },
    {
      "cell_type": "code",
      "metadata": {
        "id": "AVzAgSGvYFQx"
      },
      "source": [
        "def distributions():\r\n",
        "  numeric_columns = df._get_numeric_data().columns\r\n",
        "  for f in numeric_columns: \r\n",
        "    plt.figure(figsize=(10,5))\r\n",
        "    sns.kdeplot(data = df, x = f, color=\"pink\", bw_adjust=5, fill=True)\r\n",
        "    plt.title('Distribution of '+f)\r\n",
        "    plt.show()\r\n"
      ],
      "execution_count": null,
      "outputs": []
    },
    {
      "cell_type": "code",
      "metadata": {
        "id": "uFXknV5eYG8z"
      },
      "source": [
        "def box_plots(df):\r\n",
        "  numeric_columns = df._get_numeric_data().columns\r\n",
        "  for f in numeric_columns: \r\n",
        "    sns.boxplot(x = f , data = df, palette = \"flare\");\r\n",
        "    plt.title(\"Repartition of \"+ f)\r\n",
        "    plt.show()\r\n",
        "    print(\"The detailed description is the following\")\r\n",
        "    print(df[f].describe())\r\n",
        "    print()"
      ],
      "execution_count": null,
      "outputs": []
    },
    {
      "cell_type": "markdown",
      "metadata": {
        "id": "n6HFaywuga6d"
      },
      "source": [
        "# III. Determination of groups of similar users"
      ]
    },
    {
      "cell_type": "markdown",
      "metadata": {
        "id": "tWaTrjfkRLxl"
      },
      "source": [
        "The objective of this part is to determine if there are some groups of simil"
      ]
    },
    {
      "cell_type": "markdown",
      "metadata": {
        "id": "Zw8Tbjy_LO3J"
      },
      "source": [
        "The Id is the integer representation of the unique identifier for a twitter user. So it is the variable used to study a user and its popularity."
      ]
    },
    {
      "cell_type": "markdown",
      "metadata": {
        "id": "HagKosCGUBb6"
      },
      "source": [
        "##### A. Explanation of the method "
      ]
    },
    {
      "cell_type": "markdown",
      "metadata": {
        "id": "SuERHB-VR5pa"
      },
      "source": [
        "In order to determine the groups of similar users, I would like to focus on three main points: \r\n",
        "- The popularity of the user \r\n",
        "- The amount of interaction of the user \r\n",
        "- The location of the user\r\n",
        "\r\n",
        "For the popularity, I would like to focus on two variables: the number of followers, and the number of friends, because they are good indicators of the social network and the impact of the user on the platform. \r\n",
        "\r\n",
        "For what concerns the interaction of the user, I chose to take into account the time spent on the platform by the user based on the creation date of the account, and the number of favourites count, which is the number of posts liked by hte user.\r\n",
        "\r\n",
        "Finally, in order to take into account th potential cultural, and social aspects of the users, I considered also the latitude and longitude of the user in order to give a and information about its locatin. I chose note to consider the country , but the latitude and longitude because i do note wand the definition of proximity by user that will be lost when choosing the country (categorical feature). \r\n",
        "\r\n",
        "For all the criteria specified above, I will apply a PCA on these features, so I will end up with three axes of variance repesenting respectively : the popularity, the interaction of the user with the platform, and the geographic repartition. \r\n",
        "\r\n",
        "Then I will apply a clustering to these three features in order to determine groups of users with similar behaviors. "
      ]
    },
    {
      "cell_type": "markdown",
      "metadata": {
        "id": "o2weMmdZggYa"
      },
      "source": [
        "## B. Building the clustering features"
      ]
    },
    {
      "cell_type": "markdown",
      "metadata": {
        "id": "vHoH0A3RgktU"
      },
      "source": [
        "##### Choice of features \r\n"
      ]
    },
    {
      "cell_type": "code",
      "metadata": {
        "id": "Rio619RoTtu3"
      },
      "source": [
        "popularity_features = ['Followers_Count', 'Friends_Count','Verified']\r\n",
        "interaction_features = ['Favourites_Count',  'Age of User Created_At']\r\n",
        "geo_features = ['Latitude', 'Longitude']"
      ],
      "execution_count": null,
      "outputs": []
    },
    {
      "cell_type": "code",
      "metadata": {
        "id": "429eRpIVT2sq"
      },
      "source": [
        "all_features =  ['Id'] + popularity_features + interaction_features + geo_features "
      ],
      "execution_count": null,
      "outputs": []
    },
    {
      "cell_type": "markdown",
      "metadata": {
        "id": "34LtOQjhUvqI"
      },
      "source": [
        "##### Creation of users dataset"
      ]
    },
    {
      "cell_type": "code",
      "metadata": {
        "id": "tWMm13SEVmdc"
      },
      "source": [
        "users = get_enriched_data()\r\n",
        "users = users.dropna()"
      ],
      "execution_count": null,
      "outputs": []
    },
    {
      "cell_type": "markdown",
      "metadata": {
        "id": "dd9Ryh7-ZHd3"
      },
      "source": [
        "###### Transformation of features"
      ]
    },
    {
      "cell_type": "code",
      "metadata": {
        "id": "pf-DaT2iU-l_"
      },
      "source": [
        "users['Age of User Created_At'] =users['Age of User Created_At'].apply(lambda x : int(str(x)[:-14]) if x != np.NaN  and x != '' else '')"
      ],
      "execution_count": null,
      "outputs": []
    },
    {
      "cell_type": "markdown",
      "metadata": {
        "id": "yLjmSKv1aUfR"
      },
      "source": [
        "###### Aggregate information by user "
      ]
    },
    {
      "cell_type": "code",
      "metadata": {
        "id": "S7e8ide3Coeg"
      },
      "source": [
        "users = users.groupby(['Id']).agg('mean')\r\n",
        "users.reset_index(inplace = True)"
      ],
      "execution_count": null,
      "outputs": []
    },
    {
      "cell_type": "code",
      "metadata": {
        "colab": {
          "base_uri": "https://localhost:8080/",
          "height": 415
        },
        "id": "9Een-LDNTwF9",
        "outputId": "d24fbd33-0ecb-4aae-8fab-84961ce39ffa"
      },
      "source": [
        "clustering_data = users[all_features]\r\n",
        "clustering_data"
      ],
      "execution_count": null,
      "outputs": [
        {
          "output_type": "execute_result",
          "data": {
            "text/html": [
              "<div>\n",
              "<style scoped>\n",
              "    .dataframe tbody tr th:only-of-type {\n",
              "        vertical-align: middle;\n",
              "    }\n",
              "\n",
              "    .dataframe tbody tr th {\n",
              "        vertical-align: top;\n",
              "    }\n",
              "\n",
              "    .dataframe thead th {\n",
              "        text-align: right;\n",
              "    }\n",
              "</style>\n",
              "<table border=\"1\" class=\"dataframe\">\n",
              "  <thead>\n",
              "    <tr style=\"text-align: right;\">\n",
              "      <th></th>\n",
              "      <th>Id</th>\n",
              "      <th>Followers_Count</th>\n",
              "      <th>Friends_Count</th>\n",
              "      <th>Verified</th>\n",
              "      <th>Favourites_Count</th>\n",
              "      <th>Age of User Created_At</th>\n",
              "      <th>Latitude</th>\n",
              "      <th>Longitude</th>\n",
              "    </tr>\n",
              "  </thead>\n",
              "  <tbody>\n",
              "    <tr>\n",
              "      <th>0</th>\n",
              "      <td>1336391341069234176</td>\n",
              "      <td>645.0</td>\n",
              "      <td>1635.0</td>\n",
              "      <td>0.0</td>\n",
              "      <td>16840.0</td>\n",
              "      <td>1301</td>\n",
              "      <td>52.500170</td>\n",
              "      <td>5.748082</td>\n",
              "    </tr>\n",
              "    <tr>\n",
              "      <th>1</th>\n",
              "      <td>1336391341148762112</td>\n",
              "      <td>127586.0</td>\n",
              "      <td>1798.0</td>\n",
              "      <td>1.0</td>\n",
              "      <td>575.0</td>\n",
              "      <td>4065</td>\n",
              "      <td>55.001251</td>\n",
              "      <td>-125.002441</td>\n",
              "    </tr>\n",
              "    <tr>\n",
              "      <th>2</th>\n",
              "      <td>1336391342734323717</td>\n",
              "      <td>357.0</td>\n",
              "      <td>250.0</td>\n",
              "      <td>0.0</td>\n",
              "      <td>6906.0</td>\n",
              "      <td>2186</td>\n",
              "      <td>38.414733</td>\n",
              "      <td>27.143412</td>\n",
              "    </tr>\n",
              "    <tr>\n",
              "      <th>3</th>\n",
              "      <td>1336391342788931585</td>\n",
              "      <td>178.0</td>\n",
              "      <td>1215.0</td>\n",
              "      <td>0.0</td>\n",
              "      <td>15181.0</td>\n",
              "      <td>3485</td>\n",
              "      <td>41.796241</td>\n",
              "      <td>-71.599237</td>\n",
              "    </tr>\n",
              "    <tr>\n",
              "      <th>4</th>\n",
              "      <td>1336391343166328832</td>\n",
              "      <td>5.0</td>\n",
              "      <td>67.0</td>\n",
              "      <td>0.0</td>\n",
              "      <td>501.0</td>\n",
              "      <td>70</td>\n",
              "      <td>55.860982</td>\n",
              "      <td>-4.248879</td>\n",
              "    </tr>\n",
              "    <tr>\n",
              "      <th>...</th>\n",
              "      <td>...</td>\n",
              "      <td>...</td>\n",
              "      <td>...</td>\n",
              "      <td>...</td>\n",
              "      <td>...</td>\n",
              "      <td>...</td>\n",
              "      <td>...</td>\n",
              "      <td>...</td>\n",
              "    </tr>\n",
              "    <tr>\n",
              "      <th>982160</th>\n",
              "      <td>1336680117431627777</td>\n",
              "      <td>172.0</td>\n",
              "      <td>325.0</td>\n",
              "      <td>0.0</td>\n",
              "      <td>574.0</td>\n",
              "      <td>36</td>\n",
              "      <td>56.786111</td>\n",
              "      <td>-4.114052</td>\n",
              "    </tr>\n",
              "    <tr>\n",
              "      <th>982161</th>\n",
              "      <td>1336680117947551749</td>\n",
              "      <td>21465.0</td>\n",
              "      <td>446.0</td>\n",
              "      <td>0.0</td>\n",
              "      <td>219.0</td>\n",
              "      <td>2171</td>\n",
              "      <td>9.600036</td>\n",
              "      <td>7.999972</td>\n",
              "    </tr>\n",
              "    <tr>\n",
              "      <th>982162</th>\n",
              "      <td>1336680119516065793</td>\n",
              "      <td>29.0</td>\n",
              "      <td>147.0</td>\n",
              "      <td>0.0</td>\n",
              "      <td>2713.0</td>\n",
              "      <td>938</td>\n",
              "      <td>19.587268</td>\n",
              "      <td>-155.426890</td>\n",
              "    </tr>\n",
              "    <tr>\n",
              "      <th>982163</th>\n",
              "      <td>1336680120443138051</td>\n",
              "      <td>743.0</td>\n",
              "      <td>934.0</td>\n",
              "      <td>0.0</td>\n",
              "      <td>8939.0</td>\n",
              "      <td>862</td>\n",
              "      <td>53.349764</td>\n",
              "      <td>-6.260273</td>\n",
              "    </tr>\n",
              "    <tr>\n",
              "      <th>982164</th>\n",
              "      <td>1336680120795484160</td>\n",
              "      <td>264.0</td>\n",
              "      <td>488.0</td>\n",
              "      <td>0.0</td>\n",
              "      <td>1394.0</td>\n",
              "      <td>2106</td>\n",
              "      <td>51.507322</td>\n",
              "      <td>-0.127647</td>\n",
              "    </tr>\n",
              "  </tbody>\n",
              "</table>\n",
              "<p>982165 rows × 8 columns</p>\n",
              "</div>"
            ],
            "text/plain": [
              "                         Id  Followers_Count  ...   Latitude   Longitude\n",
              "0       1336391341069234176            645.0  ...  52.500170    5.748082\n",
              "1       1336391341148762112         127586.0  ...  55.001251 -125.002441\n",
              "2       1336391342734323717            357.0  ...  38.414733   27.143412\n",
              "3       1336391342788931585            178.0  ...  41.796241  -71.599237\n",
              "4       1336391343166328832              5.0  ...  55.860982   -4.248879\n",
              "...                     ...              ...  ...        ...         ...\n",
              "982160  1336680117431627777            172.0  ...  56.786111   -4.114052\n",
              "982161  1336680117947551749          21465.0  ...   9.600036    7.999972\n",
              "982162  1336680119516065793             29.0  ...  19.587268 -155.426890\n",
              "982163  1336680120443138051            743.0  ...  53.349764   -6.260273\n",
              "982164  1336680120795484160            264.0  ...  51.507322   -0.127647\n",
              "\n",
              "[982165 rows x 8 columns]"
            ]
          },
          "metadata": {
            "tags": []
          },
          "execution_count": 19
        }
      ]
    },
    {
      "cell_type": "markdown",
      "metadata": {
        "id": "Ss7BrjdedhB9"
      },
      "source": [
        "##### Dimension reduction by group of features"
      ]
    },
    {
      "cell_type": "markdown",
      "metadata": {
        "id": "Px9IGS1hb7Gr"
      },
      "source": [
        "###### Application of PCA on popularity features "
      ]
    },
    {
      "cell_type": "code",
      "metadata": {
        "colab": {
          "base_uri": "https://localhost:8080/"
        },
        "id": "WTIJskoDZRhw",
        "outputId": "f061d3bd-d4ef-48d7-a43f-16b40e0cbb32"
      },
      "source": [
        "X = clustering_data[popularity_features]\r\n",
        "scaler = StandardScaler()\r\n",
        "scaler.fit(X)\r\n",
        "X = scaler.transform(X)\r\n",
        "pca = PCA(n_components=1)\r\n",
        "pca.fit(X)\r\n",
        "print(\"The variance explained is\", pca.explained_variance_ratio_[0])"
      ],
      "execution_count": null,
      "outputs": [
        {
          "output_type": "stream",
          "text": [
            "The variance explained is 0.4029243210967617\n"
          ],
          "name": "stdout"
        }
      ]
    },
    {
      "cell_type": "code",
      "metadata": {
        "id": "9TFX2emUckAf"
      },
      "source": [
        "popularity_axis = pca.fit_transform(X)"
      ],
      "execution_count": null,
      "outputs": []
    },
    {
      "cell_type": "markdown",
      "metadata": {
        "id": "WIF4XPjldBr0"
      },
      "source": [
        "###### Application of PCA on interraction features"
      ]
    },
    {
      "cell_type": "code",
      "metadata": {
        "colab": {
          "base_uri": "https://localhost:8080/"
        },
        "id": "er0l8TWBcXlo",
        "outputId": "5e079bf6-ec08-4d74-c8b6-04dbe6f3afb0"
      },
      "source": [
        "X = clustering_data[interaction_features]\r\n",
        "scaler = StandardScaler()\r\n",
        "scaler.fit(X)\r\n",
        "pca = PCA(n_components=1)\r\n",
        "pca.fit(X)\r\n",
        "print(\"The variance explained is\", pca.explained_variance_ratio_[0])"
      ],
      "execution_count": null,
      "outputs": [
        {
          "output_type": "stream",
          "text": [
            "The variance explained is 0.9992616477114835\n"
          ],
          "name": "stdout"
        }
      ]
    },
    {
      "cell_type": "code",
      "metadata": {
        "id": "tzYhYhrVdMEU"
      },
      "source": [
        "interaction_axis = pca.fit_transform(X)"
      ],
      "execution_count": null,
      "outputs": []
    },
    {
      "cell_type": "markdown",
      "metadata": {
        "id": "G9oE9cb3dTvG"
      },
      "source": [
        "###### Application of PCA on geographic features"
      ]
    },
    {
      "cell_type": "code",
      "metadata": {
        "colab": {
          "base_uri": "https://localhost:8080/"
        },
        "id": "d-Ag0tRidRff",
        "outputId": "e791a16a-d893-48c5-98f1-c3e22278ad58"
      },
      "source": [
        "X = clustering_data[geo_features]\r\n",
        "scaler = StandardScaler()\r\n",
        "scaler.fit(X)\r\n",
        "pca = PCA(n_components=1)\r\n",
        "pca.fit(X)\r\n",
        "print(\"The variance explained is\", pca.explained_variance_ratio_[0])"
      ],
      "execution_count": null,
      "outputs": [
        {
          "output_type": "stream",
          "text": [
            "The variance explained is 0.9495587548545686\n"
          ],
          "name": "stdout"
        }
      ]
    },
    {
      "cell_type": "code",
      "metadata": {
        "id": "wYVLOdCpdxuP"
      },
      "source": [
        "geo_axis = pca.fit_transform(X)"
      ],
      "execution_count": null,
      "outputs": []
    },
    {
      "cell_type": "markdown",
      "metadata": {
        "id": "0oAIcEBCd9C-"
      },
      "source": [
        "##### Introduction of clustering features into the dataset"
      ]
    },
    {
      "cell_type": "code",
      "metadata": {
        "colab": {
          "base_uri": "https://localhost:8080/",
          "height": 782
        },
        "id": "lNhTvBSdeEe3",
        "outputId": "9bcfd422-5f42-4c38-a33d-5baa0a4e4ea1"
      },
      "source": [
        "clustering_data[\"Popularity\"] = popularity_axis\r\n",
        "clustering_data[\"Interaction\"] = interaction_axis\r\n",
        "clustering_data[\"Geo\"] = geo_axis\r\n",
        "clustering_data"
      ],
      "execution_count": null,
      "outputs": [
        {
          "output_type": "stream",
          "text": [
            "/usr/local/lib/python3.6/dist-packages/ipykernel_launcher.py:1: SettingWithCopyWarning: \n",
            "A value is trying to be set on a copy of a slice from a DataFrame.\n",
            "Try using .loc[row_indexer,col_indexer] = value instead\n",
            "\n",
            "See the caveats in the documentation: https://pandas.pydata.org/pandas-docs/stable/user_guide/indexing.html#returning-a-view-versus-a-copy\n",
            "  \"\"\"Entry point for launching an IPython kernel.\n",
            "/usr/local/lib/python3.6/dist-packages/ipykernel_launcher.py:2: SettingWithCopyWarning: \n",
            "A value is trying to be set on a copy of a slice from a DataFrame.\n",
            "Try using .loc[row_indexer,col_indexer] = value instead\n",
            "\n",
            "See the caveats in the documentation: https://pandas.pydata.org/pandas-docs/stable/user_guide/indexing.html#returning-a-view-versus-a-copy\n",
            "  \n",
            "/usr/local/lib/python3.6/dist-packages/ipykernel_launcher.py:3: SettingWithCopyWarning: \n",
            "A value is trying to be set on a copy of a slice from a DataFrame.\n",
            "Try using .loc[row_indexer,col_indexer] = value instead\n",
            "\n",
            "See the caveats in the documentation: https://pandas.pydata.org/pandas-docs/stable/user_guide/indexing.html#returning-a-view-versus-a-copy\n",
            "  This is separate from the ipykernel package so we can avoid doing imports until\n"
          ],
          "name": "stderr"
        },
        {
          "output_type": "execute_result",
          "data": {
            "text/html": [
              "<div>\n",
              "<style scoped>\n",
              "    .dataframe tbody tr th:only-of-type {\n",
              "        vertical-align: middle;\n",
              "    }\n",
              "\n",
              "    .dataframe tbody tr th {\n",
              "        vertical-align: top;\n",
              "    }\n",
              "\n",
              "    .dataframe thead th {\n",
              "        text-align: right;\n",
              "    }\n",
              "</style>\n",
              "<table border=\"1\" class=\"dataframe\">\n",
              "  <thead>\n",
              "    <tr style=\"text-align: right;\">\n",
              "      <th></th>\n",
              "      <th>Id</th>\n",
              "      <th>Followers_Count</th>\n",
              "      <th>Friends_Count</th>\n",
              "      <th>Verified</th>\n",
              "      <th>Favourites_Count</th>\n",
              "      <th>Age of User Created_At</th>\n",
              "      <th>Latitude</th>\n",
              "      <th>Longitude</th>\n",
              "      <th>Popularity</th>\n",
              "      <th>Interaction</th>\n",
              "      <th>Geo</th>\n",
              "    </tr>\n",
              "  </thead>\n",
              "  <tbody>\n",
              "    <tr>\n",
              "      <th>0</th>\n",
              "      <td>1336391341069234176</td>\n",
              "      <td>645.0</td>\n",
              "      <td>1635.0</td>\n",
              "      <td>0.0</td>\n",
              "      <td>16840.0</td>\n",
              "      <td>1301</td>\n",
              "      <td>52.500170</td>\n",
              "      <td>5.748082</td>\n",
              "      <td>-0.415028</td>\n",
              "      <td>-2486.385322</td>\n",
              "      <td>54.361599</td>\n",
              "    </tr>\n",
              "    <tr>\n",
              "      <th>1</th>\n",
              "      <td>1336391341148762112</td>\n",
              "      <td>127586.0</td>\n",
              "      <td>1798.0</td>\n",
              "      <td>1.0</td>\n",
              "      <td>575.0</td>\n",
              "      <td>4065</td>\n",
              "      <td>55.001251</td>\n",
              "      <td>-125.002441</td>\n",
              "      <td>1.462403</td>\n",
              "      <td>-18749.364397</td>\n",
              "      <td>-75.796879</td>\n",
              "    </tr>\n",
              "    <tr>\n",
              "      <th>2</th>\n",
              "      <td>1336391342734323717</td>\n",
              "      <td>357.0</td>\n",
              "      <td>250.0</td>\n",
              "      <td>0.0</td>\n",
              "      <td>6906.0</td>\n",
              "      <td>2186</td>\n",
              "      <td>38.414733</td>\n",
              "      <td>27.143412</td>\n",
              "      <td>-0.422427</td>\n",
              "      <td>-12419.736988</td>\n",
              "      <td>77.245952</td>\n",
              "    </tr>\n",
              "    <tr>\n",
              "      <th>3</th>\n",
              "      <td>1336391342788931585</td>\n",
              "      <td>178.0</td>\n",
              "      <td>1215.0</td>\n",
              "      <td>0.0</td>\n",
              "      <td>15181.0</td>\n",
              "      <td>3485</td>\n",
              "      <td>41.796241</td>\n",
              "      <td>-71.599237</td>\n",
              "      <td>-0.417459</td>\n",
              "      <td>-4143.791449</td>\n",
              "      <td>-21.222679</td>\n",
              "    </tr>\n",
              "    <tr>\n",
              "      <th>4</th>\n",
              "      <td>1336391343166328832</td>\n",
              "      <td>5.0</td>\n",
              "      <td>67.0</td>\n",
              "      <td>0.0</td>\n",
              "      <td>501.0</td>\n",
              "      <td>70</td>\n",
              "      <td>55.860982</td>\n",
              "      <td>-4.248879</td>\n",
              "      <td>-0.423559</td>\n",
              "      <td>-18826.279103</td>\n",
              "      <td>44.042357</td>\n",
              "    </tr>\n",
              "    <tr>\n",
              "      <th>...</th>\n",
              "      <td>...</td>\n",
              "      <td>...</td>\n",
              "      <td>...</td>\n",
              "      <td>...</td>\n",
              "      <td>...</td>\n",
              "      <td>...</td>\n",
              "      <td>...</td>\n",
              "      <td>...</td>\n",
              "      <td>...</td>\n",
              "      <td>...</td>\n",
              "      <td>...</td>\n",
              "    </tr>\n",
              "    <tr>\n",
              "      <th>982160</th>\n",
              "      <td>1336680117431627777</td>\n",
              "      <td>172.0</td>\n",
              "      <td>325.0</td>\n",
              "      <td>0.0</td>\n",
              "      <td>574.0</td>\n",
              "      <td>36</td>\n",
              "      <td>56.786111</td>\n",
              "      <td>-4.114052</td>\n",
              "      <td>-0.422125</td>\n",
              "      <td>-18753.303929</td>\n",
              "      <td>44.068996</td>\n",
              "    </tr>\n",
              "    <tr>\n",
              "      <th>982161</th>\n",
              "      <td>1336680117947551749</td>\n",
              "      <td>21465.0</td>\n",
              "      <td>446.0</td>\n",
              "      <td>0.0</td>\n",
              "      <td>219.0</td>\n",
              "      <td>2171</td>\n",
              "      <td>9.600036</td>\n",
              "      <td>7.999972</td>\n",
              "      <td>-0.411006</td>\n",
              "      <td>-19106.746152</td>\n",
              "      <td>61.573038</td>\n",
              "    </tr>\n",
              "    <tr>\n",
              "      <th>982162</th>\n",
              "      <td>1336680119516065793</td>\n",
              "      <td>29.0</td>\n",
              "      <td>147.0</td>\n",
              "      <td>0.0</td>\n",
              "      <td>2713.0</td>\n",
              "      <td>938</td>\n",
              "      <td>19.587268</td>\n",
              "      <td>-155.426890</td>\n",
              "      <td>-0.423128</td>\n",
              "      <td>-16613.646405</td>\n",
              "      <td>-101.909438</td>\n",
              "    </tr>\n",
              "    <tr>\n",
              "      <th>982163</th>\n",
              "      <td>1336680120443138051</td>\n",
              "      <td>743.0</td>\n",
              "      <td>934.0</td>\n",
              "      <td>0.0</td>\n",
              "      <td>8939.0</td>\n",
              "      <td>862</td>\n",
              "      <td>53.349764</td>\n",
              "      <td>-6.260273</td>\n",
              "      <td>-0.418653</td>\n",
              "      <td>-10387.703511</td>\n",
              "      <td>42.335735</td>\n",
              "    </tr>\n",
              "    <tr>\n",
              "      <th>982164</th>\n",
              "      <td>1336680120795484160</td>\n",
              "      <td>264.0</td>\n",
              "      <td>488.0</td>\n",
              "      <td>0.0</td>\n",
              "      <td>1394.0</td>\n",
              "      <td>2106</td>\n",
              "      <td>51.507322</td>\n",
              "      <td>-0.127647</td>\n",
              "      <td>-0.421226</td>\n",
              "      <td>-17931.793889</td>\n",
              "      <td>48.640640</td>\n",
              "    </tr>\n",
              "  </tbody>\n",
              "</table>\n",
              "<p>982165 rows × 11 columns</p>\n",
              "</div>"
            ],
            "text/plain": [
              "                         Id  Followers_Count  ...   Interaction         Geo\n",
              "0       1336391341069234176            645.0  ...  -2486.385322   54.361599\n",
              "1       1336391341148762112         127586.0  ... -18749.364397  -75.796879\n",
              "2       1336391342734323717            357.0  ... -12419.736988   77.245952\n",
              "3       1336391342788931585            178.0  ...  -4143.791449  -21.222679\n",
              "4       1336391343166328832              5.0  ... -18826.279103   44.042357\n",
              "...                     ...              ...  ...           ...         ...\n",
              "982160  1336680117431627777            172.0  ... -18753.303929   44.068996\n",
              "982161  1336680117947551749          21465.0  ... -19106.746152   61.573038\n",
              "982162  1336680119516065793             29.0  ... -16613.646405 -101.909438\n",
              "982163  1336680120443138051            743.0  ... -10387.703511   42.335735\n",
              "982164  1336680120795484160            264.0  ... -17931.793889   48.640640\n",
              "\n",
              "[982165 rows x 11 columns]"
            ]
          },
          "metadata": {
            "tags": []
          },
          "execution_count": 26
        }
      ]
    },
    {
      "cell_type": "code",
      "metadata": {
        "colab": {
          "base_uri": "https://localhost:8080/",
          "height": 470
        },
        "id": "tLjbiWBbd5uy",
        "outputId": "fcc470b5-4fc5-445b-c551-a74cb2c4d292"
      },
      "source": [
        "clustering_data"
      ],
      "execution_count": null,
      "outputs": [
        {
          "output_type": "execute_result",
          "data": {
            "text/html": [
              "<div>\n",
              "<style scoped>\n",
              "    .dataframe tbody tr th:only-of-type {\n",
              "        vertical-align: middle;\n",
              "    }\n",
              "\n",
              "    .dataframe tbody tr th {\n",
              "        vertical-align: top;\n",
              "    }\n",
              "\n",
              "    .dataframe thead th {\n",
              "        text-align: right;\n",
              "    }\n",
              "</style>\n",
              "<table border=\"1\" class=\"dataframe\">\n",
              "  <thead>\n",
              "    <tr style=\"text-align: right;\">\n",
              "      <th></th>\n",
              "      <th>Id</th>\n",
              "      <th>Followers_Count</th>\n",
              "      <th>Friends_Count</th>\n",
              "      <th>Verified</th>\n",
              "      <th>Favourites_Count</th>\n",
              "      <th>Age of User Created_At</th>\n",
              "      <th>Latitude</th>\n",
              "      <th>Longitude</th>\n",
              "      <th>Popularity</th>\n",
              "      <th>Interaction</th>\n",
              "      <th>Geo</th>\n",
              "    </tr>\n",
              "  </thead>\n",
              "  <tbody>\n",
              "    <tr>\n",
              "      <th>0</th>\n",
              "      <td>1336391341069234176</td>\n",
              "      <td>645.0</td>\n",
              "      <td>1635.0</td>\n",
              "      <td>0.0</td>\n",
              "      <td>16840.0</td>\n",
              "      <td>1301</td>\n",
              "      <td>52.500170</td>\n",
              "      <td>5.748082</td>\n",
              "      <td>-0.415028</td>\n",
              "      <td>-2486.385322</td>\n",
              "      <td>54.361599</td>\n",
              "    </tr>\n",
              "    <tr>\n",
              "      <th>1</th>\n",
              "      <td>1336391341148762112</td>\n",
              "      <td>127586.0</td>\n",
              "      <td>1798.0</td>\n",
              "      <td>1.0</td>\n",
              "      <td>575.0</td>\n",
              "      <td>4065</td>\n",
              "      <td>55.001251</td>\n",
              "      <td>-125.002441</td>\n",
              "      <td>1.462403</td>\n",
              "      <td>-18749.364397</td>\n",
              "      <td>-75.796879</td>\n",
              "    </tr>\n",
              "    <tr>\n",
              "      <th>2</th>\n",
              "      <td>1336391342734323717</td>\n",
              "      <td>357.0</td>\n",
              "      <td>250.0</td>\n",
              "      <td>0.0</td>\n",
              "      <td>6906.0</td>\n",
              "      <td>2186</td>\n",
              "      <td>38.414733</td>\n",
              "      <td>27.143412</td>\n",
              "      <td>-0.422427</td>\n",
              "      <td>-12419.736988</td>\n",
              "      <td>77.245952</td>\n",
              "    </tr>\n",
              "    <tr>\n",
              "      <th>3</th>\n",
              "      <td>1336391342788931585</td>\n",
              "      <td>178.0</td>\n",
              "      <td>1215.0</td>\n",
              "      <td>0.0</td>\n",
              "      <td>15181.0</td>\n",
              "      <td>3485</td>\n",
              "      <td>41.796241</td>\n",
              "      <td>-71.599237</td>\n",
              "      <td>-0.417459</td>\n",
              "      <td>-4143.791449</td>\n",
              "      <td>-21.222679</td>\n",
              "    </tr>\n",
              "    <tr>\n",
              "      <th>4</th>\n",
              "      <td>1336391343166328832</td>\n",
              "      <td>5.0</td>\n",
              "      <td>67.0</td>\n",
              "      <td>0.0</td>\n",
              "      <td>501.0</td>\n",
              "      <td>70</td>\n",
              "      <td>55.860982</td>\n",
              "      <td>-4.248879</td>\n",
              "      <td>-0.423559</td>\n",
              "      <td>-18826.279103</td>\n",
              "      <td>44.042357</td>\n",
              "    </tr>\n",
              "    <tr>\n",
              "      <th>...</th>\n",
              "      <td>...</td>\n",
              "      <td>...</td>\n",
              "      <td>...</td>\n",
              "      <td>...</td>\n",
              "      <td>...</td>\n",
              "      <td>...</td>\n",
              "      <td>...</td>\n",
              "      <td>...</td>\n",
              "      <td>...</td>\n",
              "      <td>...</td>\n",
              "      <td>...</td>\n",
              "    </tr>\n",
              "    <tr>\n",
              "      <th>982160</th>\n",
              "      <td>1336680117431627777</td>\n",
              "      <td>172.0</td>\n",
              "      <td>325.0</td>\n",
              "      <td>0.0</td>\n",
              "      <td>574.0</td>\n",
              "      <td>36</td>\n",
              "      <td>56.786111</td>\n",
              "      <td>-4.114052</td>\n",
              "      <td>-0.422125</td>\n",
              "      <td>-18753.303929</td>\n",
              "      <td>44.068996</td>\n",
              "    </tr>\n",
              "    <tr>\n",
              "      <th>982161</th>\n",
              "      <td>1336680117947551749</td>\n",
              "      <td>21465.0</td>\n",
              "      <td>446.0</td>\n",
              "      <td>0.0</td>\n",
              "      <td>219.0</td>\n",
              "      <td>2171</td>\n",
              "      <td>9.600036</td>\n",
              "      <td>7.999972</td>\n",
              "      <td>-0.411006</td>\n",
              "      <td>-19106.746152</td>\n",
              "      <td>61.573038</td>\n",
              "    </tr>\n",
              "    <tr>\n",
              "      <th>982162</th>\n",
              "      <td>1336680119516065793</td>\n",
              "      <td>29.0</td>\n",
              "      <td>147.0</td>\n",
              "      <td>0.0</td>\n",
              "      <td>2713.0</td>\n",
              "      <td>938</td>\n",
              "      <td>19.587268</td>\n",
              "      <td>-155.426890</td>\n",
              "      <td>-0.423128</td>\n",
              "      <td>-16613.646405</td>\n",
              "      <td>-101.909438</td>\n",
              "    </tr>\n",
              "    <tr>\n",
              "      <th>982163</th>\n",
              "      <td>1336680120443138051</td>\n",
              "      <td>743.0</td>\n",
              "      <td>934.0</td>\n",
              "      <td>0.0</td>\n",
              "      <td>8939.0</td>\n",
              "      <td>862</td>\n",
              "      <td>53.349764</td>\n",
              "      <td>-6.260273</td>\n",
              "      <td>-0.418653</td>\n",
              "      <td>-10387.703511</td>\n",
              "      <td>42.335735</td>\n",
              "    </tr>\n",
              "    <tr>\n",
              "      <th>982164</th>\n",
              "      <td>1336680120795484160</td>\n",
              "      <td>264.0</td>\n",
              "      <td>488.0</td>\n",
              "      <td>0.0</td>\n",
              "      <td>1394.0</td>\n",
              "      <td>2106</td>\n",
              "      <td>51.507322</td>\n",
              "      <td>-0.127647</td>\n",
              "      <td>-0.421226</td>\n",
              "      <td>-17931.793889</td>\n",
              "      <td>48.640640</td>\n",
              "    </tr>\n",
              "  </tbody>\n",
              "</table>\n",
              "<p>982165 rows × 11 columns</p>\n",
              "</div>"
            ],
            "text/plain": [
              "                         Id  Followers_Count  ...   Interaction         Geo\n",
              "0       1336391341069234176            645.0  ...  -2486.385322   54.361599\n",
              "1       1336391341148762112         127586.0  ... -18749.364397  -75.796879\n",
              "2       1336391342734323717            357.0  ... -12419.736988   77.245952\n",
              "3       1336391342788931585            178.0  ...  -4143.791449  -21.222679\n",
              "4       1336391343166328832              5.0  ... -18826.279103   44.042357\n",
              "...                     ...              ...  ...           ...         ...\n",
              "982160  1336680117431627777            172.0  ... -18753.303929   44.068996\n",
              "982161  1336680117947551749          21465.0  ... -19106.746152   61.573038\n",
              "982162  1336680119516065793             29.0  ... -16613.646405 -101.909438\n",
              "982163  1336680120443138051            743.0  ... -10387.703511   42.335735\n",
              "982164  1336680120795484160            264.0  ... -17931.793889   48.640640\n",
              "\n",
              "[982165 rows x 11 columns]"
            ]
          },
          "metadata": {
            "tags": []
          },
          "execution_count": 27
        }
      ]
    },
    {
      "cell_type": "markdown",
      "metadata": {
        "id": "8U7glaD-ho7J"
      },
      "source": [
        "#### Normalize the clustering features "
      ]
    },
    {
      "cell_type": "markdown",
      "metadata": {
        "id": "Sqovp1E4jfDv"
      },
      "source": [
        "Here we will normalize the axis, so the variabtion of each feature is comparable to the other. "
      ]
    },
    {
      "cell_type": "code",
      "metadata": {
        "id": "dD-sT3Ibh5xp"
      },
      "source": [
        "clustering_axis = ['Popularity', \"Interaction\", 'Geo']\r\n",
        "scaler = StandardScaler()\r\n",
        "scaler.fit(clustering_data[clustering_axis])\r\n",
        "normalized_clustering_data = scaler.transform(clustering_data[clustering_axis])\r\n",
        "normalized_clustering_data =  pd.DataFrame(normalized_clustering_data, columns = clustering_axis)"
      ],
      "execution_count": null,
      "outputs": []
    },
    {
      "cell_type": "code",
      "metadata": {
        "colab": {
          "base_uri": "https://localhost:8080/",
          "height": 202
        },
        "id": "qJuCz3Oci6O6",
        "outputId": "7e126f54-8137-425f-e252-85a76f206f29"
      },
      "source": [
        "normalized_clustering_data.head()"
      ],
      "execution_count": null,
      "outputs": [
        {
          "output_type": "execute_result",
          "data": {
            "text/html": [
              "<div>\n",
              "<style scoped>\n",
              "    .dataframe tbody tr th:only-of-type {\n",
              "        vertical-align: middle;\n",
              "    }\n",
              "\n",
              "    .dataframe tbody tr th {\n",
              "        vertical-align: top;\n",
              "    }\n",
              "\n",
              "    .dataframe thead th {\n",
              "        text-align: right;\n",
              "    }\n",
              "</style>\n",
              "<table border=\"1\" class=\"dataframe\">\n",
              "  <thead>\n",
              "    <tr style=\"text-align: right;\">\n",
              "      <th></th>\n",
              "      <th>Popularity</th>\n",
              "      <th>Interaction</th>\n",
              "      <th>Geo</th>\n",
              "    </tr>\n",
              "  </thead>\n",
              "  <tbody>\n",
              "    <tr>\n",
              "      <th>0</th>\n",
              "      <td>-0.377490</td>\n",
              "      <td>-0.046539</td>\n",
              "      <td>0.793207</td>\n",
              "    </tr>\n",
              "    <tr>\n",
              "      <th>1</th>\n",
              "      <td>1.330132</td>\n",
              "      <td>-0.350945</td>\n",
              "      <td>-1.105976</td>\n",
              "    </tr>\n",
              "    <tr>\n",
              "      <th>2</th>\n",
              "      <td>-0.384219</td>\n",
              "      <td>-0.232469</td>\n",
              "      <td>1.127120</td>\n",
              "    </tr>\n",
              "    <tr>\n",
              "      <th>3</th>\n",
              "      <td>-0.379701</td>\n",
              "      <td>-0.077562</td>\n",
              "      <td>-0.309667</td>\n",
              "    </tr>\n",
              "    <tr>\n",
              "      <th>4</th>\n",
              "      <td>-0.385249</td>\n",
              "      <td>-0.352385</td>\n",
              "      <td>0.642636</td>\n",
              "    </tr>\n",
              "  </tbody>\n",
              "</table>\n",
              "</div>"
            ],
            "text/plain": [
              "   Popularity  Interaction       Geo\n",
              "0   -0.377490    -0.046539  0.793207\n",
              "1    1.330132    -0.350945 -1.105976\n",
              "2   -0.384219    -0.232469  1.127120\n",
              "3   -0.379701    -0.077562 -0.309667\n",
              "4   -0.385249    -0.352385  0.642636"
            ]
          },
          "metadata": {
            "tags": []
          },
          "execution_count": 29
        }
      ]
    },
    {
      "cell_type": "code",
      "metadata": {
        "id": "Sl6u8VeW3VAF"
      },
      "source": [
        "weighted_clustering_data= normalized_clustering_data.copy()"
      ],
      "execution_count": null,
      "outputs": []
    },
    {
      "cell_type": "markdown",
      "metadata": {
        "id": "01T-pt9Zj2Fv"
      },
      "source": [
        "#### Plots in 3D of normalized clustering features"
      ]
    },
    {
      "cell_type": "code",
      "metadata": {
        "colab": {
          "base_uri": "https://localhost:8080/",
          "height": 629
        },
        "id": "yUP6jaHCkPsb",
        "outputId": "f731e752-ed0d-4298-ed91-ac4ce0c64564"
      },
      "source": [
        "fig = plt.figure(figsize=(20, 20))\r\n",
        "\r\n",
        "ax = fig.add_subplot(111, projection='3d')\r\n",
        "\r\n",
        "ax.scatter(normalized_clustering_data[\"Popularity\"], \r\n",
        "           normalized_clustering_data['Interaction'], \r\n",
        "           normalized_clustering_data['Geo'], \r\n",
        "           c='pink')\r\n",
        "\r\n",
        "ax.set_xlabel('Popularity')\r\n",
        "ax.set_ylabel('Interaction')\r\n",
        "ax.set_zlabel('Geo')\r\n",
        "plt.show()"
      ],
      "execution_count": null,
      "outputs": [
        {
          "output_type": "display_data",
          "data": {
            "image/png": "[encoded data removed]",
            "text/plain": [
              "<Figure size 1440x1440 with 1 Axes>"
            ]
          },
          "metadata": {
            "tags": [],
            "needs_background": "light"
          }
        }
      ]
    },
    {
      "cell_type": "markdown",
      "metadata": {
        "id": "eTVvduy-l1-c"
      },
      "source": [
        "We can see in this plot that the geo feature is the one that presents the biggest variation. However, it seems to me that one of the most imporant features in determining clusters of similar users are popularity and interraction. So in the next part, we will try to weight these factors in order to make them more important in our clustering. "
      ]
    },
    {
      "cell_type": "code",
      "metadata": {
        "id": "yK13MrsBBeQ-"
      },
      "source": [
        "users['Popularity Normalized'] =  popularity_axis\r\n",
        "users['Interaction Normalized']  = interaction_axis\r\n",
        "users[\"Geo Normalized\"] = geo_axis"
      ],
      "execution_count": null,
      "outputs": []
    },
    {
      "cell_type": "markdown",
      "metadata": {
        "id": "GgGMm716jrwQ"
      },
      "source": [
        "#### Weight of clustering features in function of their importance"
      ]
    },
    {
      "cell_type": "code",
      "metadata": {
        "id": "H-B8rd2VmoHV"
      },
      "source": [
        "weight_coeff = [10, 3, 1]"
      ],
      "execution_count": null,
      "outputs": []
    },
    {
      "cell_type": "code",
      "metadata": {
        "id": "fFnbh9S0m1yC"
      },
      "source": [
        "dico_weight = dict(zip(clustering_axis, weight_coeff))"
      ],
      "execution_count": null,
      "outputs": []
    },
    {
      "cell_type": "code",
      "metadata": {
        "id": "h0vaHxBi3skB",
        "colab": {
          "base_uri": "https://localhost:8080/",
          "height": 415
        },
        "outputId": "485a5ac6-648e-4acb-b87b-794f5804bedc"
      },
      "source": [
        "weighted_clustering_data"
      ],
      "execution_count": null,
      "outputs": [
        {
          "output_type": "execute_result",
          "data": {
            "text/html": [
              "<div>\n",
              "<style scoped>\n",
              "    .dataframe tbody tr th:only-of-type {\n",
              "        vertical-align: middle;\n",
              "    }\n",
              "\n",
              "    .dataframe tbody tr th {\n",
              "        vertical-align: top;\n",
              "    }\n",
              "\n",
              "    .dataframe thead th {\n",
              "        text-align: right;\n",
              "    }\n",
              "</style>\n",
              "<table border=\"1\" class=\"dataframe\">\n",
              "  <thead>\n",
              "    <tr style=\"text-align: right;\">\n",
              "      <th></th>\n",
              "      <th>Popularity</th>\n",
              "      <th>Interaction</th>\n",
              "      <th>Geo</th>\n",
              "    </tr>\n",
              "  </thead>\n",
              "  <tbody>\n",
              "    <tr>\n",
              "      <th>0</th>\n",
              "      <td>-0.377490</td>\n",
              "      <td>-0.046539</td>\n",
              "      <td>0.793207</td>\n",
              "    </tr>\n",
              "    <tr>\n",
              "      <th>1</th>\n",
              "      <td>1.330132</td>\n",
              "      <td>-0.350945</td>\n",
              "      <td>-1.105976</td>\n",
              "    </tr>\n",
              "    <tr>\n",
              "      <th>2</th>\n",
              "      <td>-0.384219</td>\n",
              "      <td>-0.232469</td>\n",
              "      <td>1.127120</td>\n",
              "    </tr>\n",
              "    <tr>\n",
              "      <th>3</th>\n",
              "      <td>-0.379701</td>\n",
              "      <td>-0.077562</td>\n",
              "      <td>-0.309667</td>\n",
              "    </tr>\n",
              "    <tr>\n",
              "      <th>4</th>\n",
              "      <td>-0.385249</td>\n",
              "      <td>-0.352385</td>\n",
              "      <td>0.642636</td>\n",
              "    </tr>\n",
              "    <tr>\n",
              "      <th>...</th>\n",
              "      <td>...</td>\n",
              "      <td>...</td>\n",
              "      <td>...</td>\n",
              "    </tr>\n",
              "    <tr>\n",
              "      <th>982160</th>\n",
              "      <td>-0.383945</td>\n",
              "      <td>-0.351019</td>\n",
              "      <td>0.643025</td>\n",
              "    </tr>\n",
              "    <tr>\n",
              "      <th>982161</th>\n",
              "      <td>-0.373832</td>\n",
              "      <td>-0.357635</td>\n",
              "      <td>0.898432</td>\n",
              "    </tr>\n",
              "    <tr>\n",
              "      <th>982162</th>\n",
              "      <td>-0.384857</td>\n",
              "      <td>-0.310969</td>\n",
              "      <td>-1.486993</td>\n",
              "    </tr>\n",
              "    <tr>\n",
              "      <th>982163</th>\n",
              "      <td>-0.380787</td>\n",
              "      <td>-0.194434</td>\n",
              "      <td>0.617734</td>\n",
              "    </tr>\n",
              "    <tr>\n",
              "      <th>982164</th>\n",
              "      <td>-0.383127</td>\n",
              "      <td>-0.335642</td>\n",
              "      <td>0.709731</td>\n",
              "    </tr>\n",
              "  </tbody>\n",
              "</table>\n",
              "<p>982165 rows × 3 columns</p>\n",
              "</div>"
            ],
            "text/plain": [
              "        Popularity  Interaction       Geo\n",
              "0        -0.377490    -0.046539  0.793207\n",
              "1         1.330132    -0.350945 -1.105976\n",
              "2        -0.384219    -0.232469  1.127120\n",
              "3        -0.379701    -0.077562 -0.309667\n",
              "4        -0.385249    -0.352385  0.642636\n",
              "...            ...          ...       ...\n",
              "982160   -0.383945    -0.351019  0.643025\n",
              "982161   -0.373832    -0.357635  0.898432\n",
              "982162   -0.384857    -0.310969 -1.486993\n",
              "982163   -0.380787    -0.194434  0.617734\n",
              "982164   -0.383127    -0.335642  0.709731\n",
              "\n",
              "[982165 rows x 3 columns]"
            ]
          },
          "metadata": {
            "tags": []
          },
          "execution_count": 35
        }
      ]
    },
    {
      "cell_type": "code",
      "metadata": {
        "id": "tRowj0inmySn"
      },
      "source": [
        "for f in weighted_clustering_data:\r\n",
        "  weighted_clustering_data[f] = weighted_clustering_data[f] * dico_weight[f]"
      ],
      "execution_count": null,
      "outputs": []
    },
    {
      "cell_type": "code",
      "metadata": {
        "id": "1zYIL5c8BLRV"
      },
      "source": [
        "users['Popularity Weighted'] =  popularity_axis\r\n",
        "users['Interaction Weighted']  = interaction_axis\r\n",
        "users[\"Geo Weighted\"] = geo_axis"
      ],
      "execution_count": null,
      "outputs": []
    },
    {
      "cell_type": "markdown",
      "metadata": {
        "id": "5-3R6Dulnra6"
      },
      "source": [
        "#### Plots in 3D of weighted clustering features"
      ]
    },
    {
      "cell_type": "code",
      "metadata": {
        "id": "TE4FhZfOnfRM",
        "colab": {
          "base_uri": "https://localhost:8080/",
          "height": 629
        },
        "outputId": "14f277e5-0453-40ce-b99a-71441963aaf3"
      },
      "source": [
        "fig = plt.figure(figsize=(20, 20))\r\n",
        "\r\n",
        "ax = fig.add_subplot(111, projection='3d')\r\n",
        "\r\n",
        "ax.scatter(weighted_clustering_data[\"Popularity\"], \r\n",
        "           weighted_clustering_data['Interaction'], \r\n",
        "           weighted_clustering_data['Geo'], \r\n",
        "           c='pink')\r\n",
        "\r\n",
        "ax.set_xlabel('Popularity')\r\n",
        "ax.set_ylabel('Interaction')\r\n",
        "ax.set_zlabel('Geo')\r\n",
        "\r\n",
        "plt.show()"
      ],
      "execution_count": null,
      "outputs": [
        {
          "output_type": "display_data",
          "data": {
            "image/png": "[encoded data removed]",
            "text/plain": [
              "<Figure size 1440x1440 with 1 Axes>"
            ]
          },
          "metadata": {
            "tags": [],
            "needs_background": "light"
          }
        }
      ]
    },
    {
      "cell_type": "markdown",
      "metadata": {
        "id": "cos3rQIsfIqK"
      },
      "source": [
        "## C. Application of Kmeans algorithms on normalized clustering features "
      ]
    },
    {
      "cell_type": "markdown",
      "metadata": {
        "id": "Zlz7gsYqtlDW"
      },
      "source": [
        "##### Train Kmeans with multiple k "
      ]
    },
    {
      "cell_type": "code",
      "metadata": {
        "id": "skeNZx_RpmAS"
      },
      "source": [
        "distortions = []\r\n",
        "list_k = [i for i in range(1,15)]\r\n",
        "for k in list_k :\r\n",
        "  model = KMeans(n_clusters = k, init='k-means++' )\r\n",
        "  model.fit(normalized_clustering_data)\r\n",
        "  distortions.append(model.inertia_)"
      ],
      "execution_count": null,
      "outputs": []
    },
    {
      "cell_type": "markdown",
      "metadata": {
        "id": "phboG8HZtpyw"
      },
      "source": [
        "##### Plots of distortions to determine the best k"
      ]
    },
    {
      "cell_type": "code",
      "metadata": {
        "colab": {
          "base_uri": "https://localhost:8080/",
          "height": 288
        },
        "id": "d3DXAJchtBRm",
        "outputId": "d7c37cbe-ceeb-4642-f514-5bce62cffa6f"
      },
      "source": [
        "elbow_data = pd.DataFrame({'Number of clusters':list_k ,'Distortions':distortions})\r\n",
        "sns.lineplot(x='Number of clusters', y='Distortions', data = elbow_data, color = 'pink')\r\n",
        "plt.title('Distortions in function of number of clusters for the clustering applied to normalized clustering features ')\r\n",
        "plt.xlabel('Number of Clusters')\r\n",
        "plt.ylabel(\"Distortions\")\r\n",
        "plt.show()"
      ],
      "execution_count": null,
      "outputs": [
        {
          "output_type": "display_data",
          "data": {
            "image/png": "[encoded data removed]",
            "text/plain": [
              "<Figure size 432x288 with 1 Axes>"
            ]
          },
          "metadata": {
            "tags": [],
            "needs_background": "light"
          }
        }
      ]
    },
    {
      "cell_type": "markdown",
      "metadata": {
        "id": "9kMF258Qxsjq"
      },
      "source": [
        "Here we have chosen k = 4."
      ]
    },
    {
      "cell_type": "code",
      "metadata": {
        "id": "SV8QP_XV5TwZ"
      },
      "source": [
        "k = 4"
      ],
      "execution_count": null,
      "outputs": []
    },
    {
      "cell_type": "markdown",
      "metadata": {
        "id": "17yArhuy5O4y"
      },
      "source": [
        "#### Determine cluster centers and labels"
      ]
    },
    {
      "cell_type": "code",
      "metadata": {
        "id": "qaSvY9ioxroL"
      },
      "source": [
        "model = KMeans(n_clusters = k, init='k-means++')\r\n",
        "model.fit(normalized_clustering_data)\r\n",
        "normalized_clustering_data[\"Kmean Labels\"] = model.predict(normalized_clustering_data)\r\n",
        "cluster_centers_km_nm = model.cluster_centers_"
      ],
      "execution_count": null,
      "outputs": []
    },
    {
      "cell_type": "code",
      "metadata": {
        "id": "yq5rsqZhCThf"
      },
      "source": [
        ""
      ],
      "execution_count": null,
      "outputs": []
    },
    {
      "cell_type": "code",
      "metadata": {
        "colab": {
          "base_uri": "https://localhost:8080/",
          "height": 202
        },
        "id": "VvUbcoDf8X37",
        "outputId": "2914d8d9-559c-4672-96fc-a75372d6dc37"
      },
      "source": [
        "normalized_clustering_data.head()"
      ],
      "execution_count": null,
      "outputs": [
        {
          "output_type": "execute_result",
          "data": {
            "text/html": [
              "<div>\n",
              "<style scoped>\n",
              "    .dataframe tbody tr th:only-of-type {\n",
              "        vertical-align: middle;\n",
              "    }\n",
              "\n",
              "    .dataframe tbody tr th {\n",
              "        vertical-align: top;\n",
              "    }\n",
              "\n",
              "    .dataframe thead th {\n",
              "        text-align: right;\n",
              "    }\n",
              "</style>\n",
              "<table border=\"1\" class=\"dataframe\">\n",
              "  <thead>\n",
              "    <tr style=\"text-align: right;\">\n",
              "      <th></th>\n",
              "      <th>Popularity</th>\n",
              "      <th>Interaction</th>\n",
              "      <th>Geo</th>\n",
              "      <th>Kmean Labels</th>\n",
              "    </tr>\n",
              "  </thead>\n",
              "  <tbody>\n",
              "    <tr>\n",
              "      <th>0</th>\n",
              "      <td>-0.377490</td>\n",
              "      <td>-0.046539</td>\n",
              "      <td>0.793207</td>\n",
              "      <td>0</td>\n",
              "    </tr>\n",
              "    <tr>\n",
              "      <th>1</th>\n",
              "      <td>1.330132</td>\n",
              "      <td>-0.350945</td>\n",
              "      <td>-1.105976</td>\n",
              "      <td>3</td>\n",
              "    </tr>\n",
              "    <tr>\n",
              "      <th>2</th>\n",
              "      <td>-0.384219</td>\n",
              "      <td>-0.232469</td>\n",
              "      <td>1.127120</td>\n",
              "      <td>0</td>\n",
              "    </tr>\n",
              "    <tr>\n",
              "      <th>3</th>\n",
              "      <td>-0.379701</td>\n",
              "      <td>-0.077562</td>\n",
              "      <td>-0.309667</td>\n",
              "      <td>1</td>\n",
              "    </tr>\n",
              "    <tr>\n",
              "      <th>4</th>\n",
              "      <td>-0.385249</td>\n",
              "      <td>-0.352385</td>\n",
              "      <td>0.642636</td>\n",
              "      <td>0</td>\n",
              "    </tr>\n",
              "  </tbody>\n",
              "</table>\n",
              "</div>"
            ],
            "text/plain": [
              "   Popularity  Interaction       Geo  Kmean Labels\n",
              "0   -0.377490    -0.046539  0.793207             0\n",
              "1    1.330132    -0.350945 -1.105976             3\n",
              "2   -0.384219    -0.232469  1.127120             0\n",
              "3   -0.379701    -0.077562 -0.309667             1\n",
              "4   -0.385249    -0.352385  0.642636             0"
            ]
          },
          "metadata": {
            "tags": []
          },
          "execution_count": 43
        }
      ]
    },
    {
      "cell_type": "markdown",
      "metadata": {
        "id": "atFQXJrsyYZL"
      },
      "source": [
        "#### Analysis of centroids"
      ]
    },
    {
      "cell_type": "code",
      "metadata": {
        "id": "d5TLBLdd5tHL",
        "colab": {
          "base_uri": "https://localhost:8080/",
          "height": 189
        },
        "outputId": "d50b17a9-f505-4cb8-8a5e-bde7eb5232e3"
      },
      "source": [
        "columns = list(normalized_clustering_data.columns)[:3]\r\n",
        "print(\"The center of clusters are: \")\r\n",
        "cluster_centers_km_nm\r\n",
        "cluster_centers = pd.DataFrame(cluster_centers_km_nm)\r\n",
        "cluster_centers.columns = columns\r\n",
        "cluster_centers['Occurence']  =normalized_clustering_data[\"Kmean Labels\"].value_counts()\r\n",
        "cluster_centers"
      ],
      "execution_count": null,
      "outputs": [
        {
          "output_type": "stream",
          "text": [
            "The center of clusters are: \n"
          ],
          "name": "stdout"
        },
        {
          "output_type": "execute_result",
          "data": {
            "text/html": [
              "<div>\n",
              "<style scoped>\n",
              "    .dataframe tbody tr th:only-of-type {\n",
              "        vertical-align: middle;\n",
              "    }\n",
              "\n",
              "    .dataframe tbody tr th {\n",
              "        vertical-align: top;\n",
              "    }\n",
              "\n",
              "    .dataframe thead th {\n",
              "        text-align: right;\n",
              "    }\n",
              "</style>\n",
              "<table border=\"1\" class=\"dataframe\">\n",
              "  <thead>\n",
              "    <tr style=\"text-align: right;\">\n",
              "      <th></th>\n",
              "      <th>Popularity</th>\n",
              "      <th>Interaction</th>\n",
              "      <th>Geo</th>\n",
              "      <th>Occurence</th>\n",
              "    </tr>\n",
              "  </thead>\n",
              "  <tbody>\n",
              "    <tr>\n",
              "      <th>0</th>\n",
              "      <td>-0.250530</td>\n",
              "      <td>-0.137901</td>\n",
              "      <td>1.306556</td>\n",
              "      <td>274607</td>\n",
              "    </tr>\n",
              "    <tr>\n",
              "      <th>1</th>\n",
              "      <td>-0.372735</td>\n",
              "      <td>-0.064691</td>\n",
              "      <td>-0.615811</td>\n",
              "      <td>522539</td>\n",
              "    </tr>\n",
              "    <tr>\n",
              "      <th>2</th>\n",
              "      <td>-0.281228</td>\n",
              "      <td>4.995388</td>\n",
              "      <td>-0.276120</td>\n",
              "      <td>22031</td>\n",
              "    </tr>\n",
              "    <tr>\n",
              "      <th>3</th>\n",
              "      <td>1.655089</td>\n",
              "      <td>-0.236263</td>\n",
              "      <td>-0.189742</td>\n",
              "      <td>162988</td>\n",
              "    </tr>\n",
              "  </tbody>\n",
              "</table>\n",
              "</div>"
            ],
            "text/plain": [
              "   Popularity  Interaction       Geo  Occurence\n",
              "0   -0.250530    -0.137901  1.306556     274607\n",
              "1   -0.372735    -0.064691 -0.615811     522539\n",
              "2   -0.281228     4.995388 -0.276120      22031\n",
              "3    1.655089    -0.236263 -0.189742     162988"
            ]
          },
          "metadata": {
            "tags": []
          },
          "execution_count": 44
        }
      ]
    },
    {
      "cell_type": "markdown",
      "metadata": {
        "id": "To-cHGK-8CDu"
      },
      "source": [
        "#### Add labels to users dataset "
      ]
    },
    {
      "cell_type": "code",
      "metadata": {
        "colab": {
          "base_uri": "https://localhost:8080/",
          "height": 257
        },
        "id": "NxTg98N8lIxn",
        "outputId": "c1d159ed-8405-4fbf-abf4-9a18b605c5ed"
      },
      "source": [
        "users.head()"
      ],
      "execution_count": null,
      "outputs": [
        {
          "output_type": "execute_result",
          "data": {
            "text/html": [
              "<div>\n",
              "<style scoped>\n",
              "    .dataframe tbody tr th:only-of-type {\n",
              "        vertical-align: middle;\n",
              "    }\n",
              "\n",
              "    .dataframe tbody tr th {\n",
              "        vertical-align: top;\n",
              "    }\n",
              "\n",
              "    .dataframe thead th {\n",
              "        text-align: right;\n",
              "    }\n",
              "</style>\n",
              "<table border=\"1\" class=\"dataframe\">\n",
              "  <thead>\n",
              "    <tr style=\"text-align: right;\">\n",
              "      <th></th>\n",
              "      <th>Id</th>\n",
              "      <th>Followers_Count</th>\n",
              "      <th>Friends_Count</th>\n",
              "      <th>Favourites_Count</th>\n",
              "      <th>Verified</th>\n",
              "      <th>Favorite_Count</th>\n",
              "      <th>Retweeted</th>\n",
              "      <th>Reply_Count</th>\n",
              "      <th>Retweet_Count</th>\n",
              "      <th>Retweeted.1</th>\n",
              "      <th>Unnamed: 0_y</th>\n",
              "      <th>Latitude</th>\n",
              "      <th>Longitude</th>\n",
              "      <th>Weekday of Date</th>\n",
              "      <th>Month of Date</th>\n",
              "      <th>Age of User Created_At</th>\n",
              "      <th>Weekday of User Created_At</th>\n",
              "      <th>Month of User Created_At</th>\n",
              "      <th>Weekday of Created_At</th>\n",
              "      <th>Month of Created_At</th>\n",
              "      <th>Popularity Normalized</th>\n",
              "      <th>Interaction Normalized</th>\n",
              "      <th>Geo Normalized</th>\n",
              "      <th>Popularity Weighted</th>\n",
              "      <th>Interaction Weighted</th>\n",
              "      <th>Geo Weighted</th>\n",
              "    </tr>\n",
              "  </thead>\n",
              "  <tbody>\n",
              "    <tr>\n",
              "      <th>0</th>\n",
              "      <td>1336391341069234176</td>\n",
              "      <td>645.0</td>\n",
              "      <td>1635.0</td>\n",
              "      <td>16840.0</td>\n",
              "      <td>0.0</td>\n",
              "      <td>0.0</td>\n",
              "      <td>0.0</td>\n",
              "      <td>0.0</td>\n",
              "      <td>0.0</td>\n",
              "      <td>0.0</td>\n",
              "      <td>263.0</td>\n",
              "      <td>52.500170</td>\n",
              "      <td>5.748082</td>\n",
              "      <td>1</td>\n",
              "      <td>12</td>\n",
              "      <td>1301</td>\n",
              "      <td>2</td>\n",
              "      <td>6</td>\n",
              "      <td>1</td>\n",
              "      <td>12</td>\n",
              "      <td>-0.415028</td>\n",
              "      <td>-2486.385322</td>\n",
              "      <td>54.361599</td>\n",
              "      <td>-0.415028</td>\n",
              "      <td>-2486.385322</td>\n",
              "      <td>54.361599</td>\n",
              "    </tr>\n",
              "    <tr>\n",
              "      <th>1</th>\n",
              "      <td>1336391341148762112</td>\n",
              "      <td>127586.0</td>\n",
              "      <td>1798.0</td>\n",
              "      <td>575.0</td>\n",
              "      <td>1.0</td>\n",
              "      <td>0.0</td>\n",
              "      <td>0.0</td>\n",
              "      <td>0.0</td>\n",
              "      <td>0.0</td>\n",
              "      <td>0.0</td>\n",
              "      <td>150.0</td>\n",
              "      <td>55.001251</td>\n",
              "      <td>-125.002441</td>\n",
              "      <td>1</td>\n",
              "      <td>12</td>\n",
              "      <td>4065</td>\n",
              "      <td>3</td>\n",
              "      <td>11</td>\n",
              "      <td>1</td>\n",
              "      <td>12</td>\n",
              "      <td>1.462403</td>\n",
              "      <td>-18749.364397</td>\n",
              "      <td>-75.796879</td>\n",
              "      <td>1.462403</td>\n",
              "      <td>-18749.364397</td>\n",
              "      <td>-75.796879</td>\n",
              "    </tr>\n",
              "    <tr>\n",
              "      <th>2</th>\n",
              "      <td>1336391342734323717</td>\n",
              "      <td>357.0</td>\n",
              "      <td>250.0</td>\n",
              "      <td>6906.0</td>\n",
              "      <td>0.0</td>\n",
              "      <td>0.0</td>\n",
              "      <td>0.0</td>\n",
              "      <td>0.0</td>\n",
              "      <td>0.0</td>\n",
              "      <td>0.0</td>\n",
              "      <td>4909.0</td>\n",
              "      <td>38.414733</td>\n",
              "      <td>27.143412</td>\n",
              "      <td>1</td>\n",
              "      <td>12</td>\n",
              "      <td>2186</td>\n",
              "      <td>6</td>\n",
              "      <td>1</td>\n",
              "      <td>1</td>\n",
              "      <td>12</td>\n",
              "      <td>-0.422427</td>\n",
              "      <td>-12419.736988</td>\n",
              "      <td>77.245952</td>\n",
              "      <td>-0.422427</td>\n",
              "      <td>-12419.736988</td>\n",
              "      <td>77.245952</td>\n",
              "    </tr>\n",
              "    <tr>\n",
              "      <th>3</th>\n",
              "      <td>1336391342788931585</td>\n",
              "      <td>178.0</td>\n",
              "      <td>1215.0</td>\n",
              "      <td>15181.0</td>\n",
              "      <td>0.0</td>\n",
              "      <td>1.0</td>\n",
              "      <td>0.0</td>\n",
              "      <td>0.0</td>\n",
              "      <td>0.0</td>\n",
              "      <td>0.0</td>\n",
              "      <td>3000.0</td>\n",
              "      <td>41.796241</td>\n",
              "      <td>-71.599237</td>\n",
              "      <td>1</td>\n",
              "      <td>12</td>\n",
              "      <td>3485</td>\n",
              "      <td>2</td>\n",
              "      <td>6</td>\n",
              "      <td>1</td>\n",
              "      <td>12</td>\n",
              "      <td>-0.417459</td>\n",
              "      <td>-4143.791449</td>\n",
              "      <td>-21.222679</td>\n",
              "      <td>-0.417459</td>\n",
              "      <td>-4143.791449</td>\n",
              "      <td>-21.222679</td>\n",
              "    </tr>\n",
              "    <tr>\n",
              "      <th>4</th>\n",
              "      <td>1336391343166328832</td>\n",
              "      <td>5.0</td>\n",
              "      <td>67.0</td>\n",
              "      <td>501.0</td>\n",
              "      <td>0.0</td>\n",
              "      <td>0.0</td>\n",
              "      <td>0.0</td>\n",
              "      <td>0.0</td>\n",
              "      <td>0.0</td>\n",
              "      <td>0.0</td>\n",
              "      <td>130.0</td>\n",
              "      <td>55.860982</td>\n",
              "      <td>-4.248879</td>\n",
              "      <td>1</td>\n",
              "      <td>12</td>\n",
              "      <td>70</td>\n",
              "      <td>1</td>\n",
              "      <td>10</td>\n",
              "      <td>1</td>\n",
              "      <td>12</td>\n",
              "      <td>-0.423559</td>\n",
              "      <td>-18826.279103</td>\n",
              "      <td>44.042357</td>\n",
              "      <td>-0.423559</td>\n",
              "      <td>-18826.279103</td>\n",
              "      <td>44.042357</td>\n",
              "    </tr>\n",
              "  </tbody>\n",
              "</table>\n",
              "</div>"
            ],
            "text/plain": [
              "                    Id  Followers_Count  ...  Interaction Weighted  Geo Weighted\n",
              "0  1336391341069234176            645.0  ...          -2486.385322     54.361599\n",
              "1  1336391341148762112         127586.0  ...         -18749.364397    -75.796879\n",
              "2  1336391342734323717            357.0  ...         -12419.736988     77.245952\n",
              "3  1336391342788931585            178.0  ...          -4143.791449    -21.222679\n",
              "4  1336391343166328832              5.0  ...         -18826.279103     44.042357\n",
              "\n",
              "[5 rows x 26 columns]"
            ]
          },
          "metadata": {
            "tags": []
          },
          "execution_count": 45
        }
      ]
    },
    {
      "cell_type": "code",
      "metadata": {
        "id": "uwp3yD-O8NqW"
      },
      "source": [
        "users['Normalized Cluster'] = normalized_clustering_data[\"Kmean Labels\"]"
      ],
      "execution_count": null,
      "outputs": []
    },
    {
      "cell_type": "markdown",
      "metadata": {
        "id": "pQU-Jd0-lGkP"
      },
      "source": [
        "### Analysis of cluster centers "
      ]
    },
    {
      "cell_type": "code",
      "metadata": {
        "id": "8Z6t5NUEfJt5"
      },
      "source": [
        "comparison_columns = ['Followers_Count', 'Friends_Count',\r\n",
        "       'Favourites_Count', 'Verified','Favorite_Count',\r\n",
        "       'Latitude', 'Longitude','Age of User Created_At']"
      ],
      "execution_count": null,
      "outputs": []
    },
    {
      "cell_type": "code",
      "metadata": {
        "id": "YjnuFu60lGkR"
      },
      "source": [
        "tab = users.groupby('Normalized Cluster').agg(\"mean\")[comparison_columns]\r\n",
        "tab.reset_index(inplace = True)\r\n",
        "tab = tab.dropna()"
      ],
      "execution_count": null,
      "outputs": []
    },
    {
      "cell_type": "code",
      "metadata": {
        "colab": {
          "base_uri": "https://localhost:8080/",
          "height": 1000
        },
        "id": "6Uu__0GxlGkS",
        "outputId": "def08a51-2611-4a14-dc0d-df4a4db4564a"
      },
      "source": [
        "for col in list(tab.columns[1:]): \r\n",
        "    sns.catplot(x = str(col), y = 'Normalized Cluster',  data =tab, orient= \"h\",  kind=\"bar\", palette = \"Set3\")\r\n",
        "    plt.show()"
      ],
      "execution_count": null,
      "outputs": [
        {
          "output_type": "display_data",
          "data": {
            "image/png": "[encoded data removed]",
            "text/plain": [
              "<Figure size 360x360 with 1 Axes>"
            ]
          },
          "metadata": {
            "tags": [],
            "needs_background": "light"
          }
        },
        {
          "output_type": "display_data",
          "data": {
            "image/png": "[encoded data removed]",
            "text/plain": [
              "<Figure size 360x360 with 1 Axes>"
            ]
          },
          "metadata": {
            "tags": [],
            "needs_background": "light"
          }
        },
        {
          "output_type": "display_data",
          "data": {
            "image/png": "[encoded data removed]",
            "text/plain": [
              "<Figure size 360x360 with 1 Axes>"
            ]
          },
          "metadata": {
            "tags": [],
            "needs_background": "light"
          }
        },
        {
          "output_type": "display_data",
          "data": {
            "image/png": "[encoded data removed]",
            "text/plain": [
              "<Figure size 360x360 with 1 Axes>"
            ]
          },
          "metadata": {
            "tags": [],
            "needs_background": "light"
          }
        },
        {
          "output_type": "display_data",
          "data": {
            "image/png": "[encoded data removed]",
            "text/plain": [
              "<Figure size 360x360 with 1 Axes>"
            ]
          },
          "metadata": {
            "tags": [],
            "needs_background": "light"
          }
        },
        {
          "output_type": "display_data",
          "data": {
            "image/png": "[encoded data removed]",
            "text/plain": [
              "<Figure size 360x360 with 1 Axes>"
            ]
          },
          "metadata": {
            "tags": [],
            "needs_background": "light"
          }
        },
        {
          "output_type": "display_data",
          "data": {
            "image/png": "[encoded data removed]",
            "text/plain": [
              "<Figure size 360x360 with 1 Axes>"
            ]
          },
          "metadata": {
            "tags": [],
            "needs_background": "light"
          }
        },
        {
          "output_type": "display_data",
          "data": {
            "image/png": "[encoded data removed]",
            "text/plain": [
              "<Figure size 360x360 with 1 Axes>"
            ]
          },
          "metadata": {
            "tags": [],
            "needs_background": "light"
          }
        }
      ]
    },
    {
      "cell_type": "code",
      "metadata": {
        "colab": {
          "base_uri": "https://localhost:8080/"
        },
        "id": "W97Kmn6dmw-o",
        "outputId": "d051427a-5921-403e-f997-1e9bab830a82"
      },
      "source": [
        "users['Normalized Cluster'].value_counts()"
      ],
      "execution_count": null,
      "outputs": [
        {
          "output_type": "execute_result",
          "data": {
            "text/plain": [
              "1    522539\n",
              "0    274607\n",
              "3    162988\n",
              "2     22031\n",
              "Name: Normalized Cluster, dtype: int64"
            ]
          },
          "metadata": {
            "tags": []
          },
          "execution_count": 50
        }
      ]
    },
    {
      "cell_type": "markdown",
      "metadata": {
        "id": "qN4AMCf6zP83"
      },
      "source": [
        "## D. Application of Kmeans algorithm on weighted clustering features "
      ]
    },
    {
      "cell_type": "markdown",
      "metadata": {
        "id": "b9bw3RRQzP9H"
      },
      "source": [
        "##### Train Kmeans with multiple k "
      ]
    },
    {
      "cell_type": "code",
      "metadata": {
        "colab": {
          "base_uri": "https://localhost:8080/",
          "height": 202
        },
        "id": "OWxJKHxp4l9r",
        "outputId": "430d1d82-5067-4b70-bad5-7a16ba8de201"
      },
      "source": [
        "weighted_clustering_data.head()"
      ],
      "execution_count": null,
      "outputs": [
        {
          "output_type": "execute_result",
          "data": {
            "text/html": [
              "<div>\n",
              "<style scoped>\n",
              "    .dataframe tbody tr th:only-of-type {\n",
              "        vertical-align: middle;\n",
              "    }\n",
              "\n",
              "    .dataframe tbody tr th {\n",
              "        vertical-align: top;\n",
              "    }\n",
              "\n",
              "    .dataframe thead th {\n",
              "        text-align: right;\n",
              "    }\n",
              "</style>\n",
              "<table border=\"1\" class=\"dataframe\">\n",
              "  <thead>\n",
              "    <tr style=\"text-align: right;\">\n",
              "      <th></th>\n",
              "      <th>Popularity</th>\n",
              "      <th>Interaction</th>\n",
              "      <th>Geo</th>\n",
              "    </tr>\n",
              "  </thead>\n",
              "  <tbody>\n",
              "    <tr>\n",
              "      <th>0</th>\n",
              "      <td>-3.774898</td>\n",
              "      <td>-0.139618</td>\n",
              "      <td>0.793207</td>\n",
              "    </tr>\n",
              "    <tr>\n",
              "      <th>1</th>\n",
              "      <td>13.301317</td>\n",
              "      <td>-1.052836</td>\n",
              "      <td>-1.105976</td>\n",
              "    </tr>\n",
              "    <tr>\n",
              "      <th>2</th>\n",
              "      <td>-3.842194</td>\n",
              "      <td>-0.697407</td>\n",
              "      <td>1.127120</td>\n",
              "    </tr>\n",
              "    <tr>\n",
              "      <th>3</th>\n",
              "      <td>-3.797006</td>\n",
              "      <td>-0.232687</td>\n",
              "      <td>-0.309667</td>\n",
              "    </tr>\n",
              "    <tr>\n",
              "      <th>4</th>\n",
              "      <td>-3.852492</td>\n",
              "      <td>-1.057155</td>\n",
              "      <td>0.642636</td>\n",
              "    </tr>\n",
              "  </tbody>\n",
              "</table>\n",
              "</div>"
            ],
            "text/plain": [
              "   Popularity  Interaction       Geo\n",
              "0   -3.774898    -0.139618  0.793207\n",
              "1   13.301317    -1.052836 -1.105976\n",
              "2   -3.842194    -0.697407  1.127120\n",
              "3   -3.797006    -0.232687 -0.309667\n",
              "4   -3.852492    -1.057155  0.642636"
            ]
          },
          "metadata": {
            "tags": []
          },
          "execution_count": 51
        }
      ]
    },
    {
      "cell_type": "code",
      "metadata": {
        "id": "4AjpWdcyzP9I"
      },
      "source": [
        "distortions = []\r\n",
        "list_k = [i for i in range(1,15)]\r\n",
        "\r\n",
        "for k in list_k :\r\n",
        "  model = KMeans(n_clusters = k, init='k-means++')\r\n",
        "  model.fit(weighted_clustering_data)\r\n",
        "  distortions.append(model.inertia_)"
      ],
      "execution_count": null,
      "outputs": []
    },
    {
      "cell_type": "markdown",
      "metadata": {
        "id": "9QICxiqEzP9K"
      },
      "source": [
        "##### Plots of distortions to determine the best k"
      ]
    },
    {
      "cell_type": "code",
      "metadata": {
        "colab": {
          "base_uri": "https://localhost:8080/",
          "height": 295
        },
        "id": "c4tuCweazP9L",
        "outputId": "4ab6e244-c57f-4af0-f388-cc7f4c8251e6"
      },
      "source": [
        "elbow_data_w = pd.DataFrame({'Number of clusters':list_k ,'Distortions':distortions})\r\n",
        "sns.lineplot(x='Number of clusters', y='Distortions', data = elbow_data_w, color = 'pink')\r\n",
        "plt.title('Distortions in function of number of clusters for the clustering applied to normalized and weighted clustering features ')\r\n",
        "plt.xlabel('Number of Clusters')\r\n",
        "plt.ylabel(\"Distortions\")\r\n",
        "plt.show()"
      ],
      "execution_count": null,
      "outputs": [
        {
          "output_type": "display_data",
          "data": {
            "image/png": "[encoded data removed]",
            "text/plain": [
              "<Figure size 432x288 with 1 Axes>"
            ]
          },
          "metadata": {
            "tags": [],
            "needs_background": "light"
          }
        }
      ]
    },
    {
      "cell_type": "markdown",
      "metadata": {
        "id": "sp_gAoUEzP9P"
      },
      "source": [
        "Here we have chosen k = 4."
      ]
    },
    {
      "cell_type": "code",
      "metadata": {
        "id": "niIOAEs0zP9Q"
      },
      "source": [
        "k = 3"
      ],
      "execution_count": null,
      "outputs": []
    },
    {
      "cell_type": "code",
      "metadata": {
        "colab": {
          "base_uri": "https://localhost:8080/",
          "height": 202
        },
        "id": "h_nIiZrH10zg",
        "outputId": "a0bd9d1d-0b79-4c94-f22e-699a5187175e"
      },
      "source": [
        "weighted_clustering_data.head()"
      ],
      "execution_count": null,
      "outputs": [
        {
          "output_type": "execute_result",
          "data": {
            "text/html": [
              "<div>\n",
              "<style scoped>\n",
              "    .dataframe tbody tr th:only-of-type {\n",
              "        vertical-align: middle;\n",
              "    }\n",
              "\n",
              "    .dataframe tbody tr th {\n",
              "        vertical-align: top;\n",
              "    }\n",
              "\n",
              "    .dataframe thead th {\n",
              "        text-align: right;\n",
              "    }\n",
              "</style>\n",
              "<table border=\"1\" class=\"dataframe\">\n",
              "  <thead>\n",
              "    <tr style=\"text-align: right;\">\n",
              "      <th></th>\n",
              "      <th>Popularity</th>\n",
              "      <th>Interaction</th>\n",
              "      <th>Geo</th>\n",
              "    </tr>\n",
              "  </thead>\n",
              "  <tbody>\n",
              "    <tr>\n",
              "      <th>0</th>\n",
              "      <td>-3.774898</td>\n",
              "      <td>-0.139618</td>\n",
              "      <td>0.793207</td>\n",
              "    </tr>\n",
              "    <tr>\n",
              "      <th>1</th>\n",
              "      <td>13.301317</td>\n",
              "      <td>-1.052836</td>\n",
              "      <td>-1.105976</td>\n",
              "    </tr>\n",
              "    <tr>\n",
              "      <th>2</th>\n",
              "      <td>-3.842194</td>\n",
              "      <td>-0.697407</td>\n",
              "      <td>1.127120</td>\n",
              "    </tr>\n",
              "    <tr>\n",
              "      <th>3</th>\n",
              "      <td>-3.797006</td>\n",
              "      <td>-0.232687</td>\n",
              "      <td>-0.309667</td>\n",
              "    </tr>\n",
              "    <tr>\n",
              "      <th>4</th>\n",
              "      <td>-3.852492</td>\n",
              "      <td>-1.057155</td>\n",
              "      <td>0.642636</td>\n",
              "    </tr>\n",
              "  </tbody>\n",
              "</table>\n",
              "</div>"
            ],
            "text/plain": [
              "   Popularity  Interaction       Geo\n",
              "0   -3.774898    -0.139618  0.793207\n",
              "1   13.301317    -1.052836 -1.105976\n",
              "2   -3.842194    -0.697407  1.127120\n",
              "3   -3.797006    -0.232687 -0.309667\n",
              "4   -3.852492    -1.057155  0.642636"
            ]
          },
          "metadata": {
            "tags": []
          },
          "execution_count": 55
        }
      ]
    },
    {
      "cell_type": "markdown",
      "metadata": {
        "id": "eQ5JZTYDzP9R"
      },
      "source": [
        "#### Determine cluster centers and labels"
      ]
    },
    {
      "cell_type": "code",
      "metadata": {
        "id": "owvWEN7xzP9S"
      },
      "source": [
        "model = KMeans(n_clusters = k, init='k-means++')\r\n",
        "model.fit(weighted_clustering_data)\r\n",
        "\r\n",
        "weighted_clustering_data[\"Kmean Labels\"] = model.predict(weighted_clustering_data)\r\n",
        "cluster_centers_km_weighted = model.cluster_centers_"
      ],
      "execution_count": null,
      "outputs": []
    },
    {
      "cell_type": "code",
      "metadata": {
        "colab": {
          "base_uri": "https://localhost:8080/"
        },
        "id": "f_h6OhRK1vCU",
        "outputId": "2512222f-aa86-4318-ccc7-f9fd8c2fdc41"
      },
      "source": [
        "cluster_centers_km_weighted "
      ],
      "execution_count": null,
      "outputs": [
        {
          "output_type": "execute_result",
          "data": {
            "text/plain": [
              "array([[-3.71442217e+00,  1.49484936e-01, -1.43736957e-02],\n",
              "       [ 1.46947628e+01, -6.49801909e-01,  6.61759967e-02],\n",
              "       [ 1.11421029e+02, -9.17046484e-01, -1.37400643e-01]])"
            ]
          },
          "metadata": {
            "tags": []
          },
          "execution_count": 57
        }
      ]
    },
    {
      "cell_type": "markdown",
      "metadata": {
        "id": "MoNAaoYJzP9U"
      },
      "source": [
        "#### Analysis of centroids"
      ]
    },
    {
      "cell_type": "code",
      "metadata": {
        "colab": {
          "base_uri": "https://localhost:8080/",
          "height": 175
        },
        "id": "16NOHeRrzP9U",
        "outputId": "a3a8f011-170f-483f-8ddf-e153178e5e6d"
      },
      "source": [
        "columns = list(weighted_clustering_data.columns)[:3]\r\n",
        "print(\"The center of clusters are: \")\r\n",
        "print(columns)\r\n",
        "#cluster_centers_km_weighted \r\n",
        "cluster_centers_weighted = pd.DataFrame(cluster_centers_km_weighted)\r\n",
        "cluster_centers_weighted.columns = columns\r\n",
        "cluster_centers_weighted ['Occurence']  = weighted_clustering_data[ \"Kmean Labels\"].value_counts()\r\n",
        "cluster_centers_weighted "
      ],
      "execution_count": null,
      "outputs": [
        {
          "output_type": "stream",
          "text": [
            "The center of clusters are: \n",
            "['Popularity', 'Interaction', 'Geo']\n"
          ],
          "name": "stdout"
        },
        {
          "output_type": "execute_result",
          "data": {
            "text/html": [
              "<div>\n",
              "<style scoped>\n",
              "    .dataframe tbody tr th:only-of-type {\n",
              "        vertical-align: middle;\n",
              "    }\n",
              "\n",
              "    .dataframe tbody tr th {\n",
              "        vertical-align: top;\n",
              "    }\n",
              "\n",
              "    .dataframe thead th {\n",
              "        text-align: right;\n",
              "    }\n",
              "</style>\n",
              "<table border=\"1\" class=\"dataframe\">\n",
              "  <thead>\n",
              "    <tr style=\"text-align: right;\">\n",
              "      <th></th>\n",
              "      <th>Popularity</th>\n",
              "      <th>Interaction</th>\n",
              "      <th>Geo</th>\n",
              "      <th>Occurence</th>\n",
              "    </tr>\n",
              "  </thead>\n",
              "  <tbody>\n",
              "    <tr>\n",
              "      <th>0</th>\n",
              "      <td>-3.714422</td>\n",
              "      <td>0.149485</td>\n",
              "      <td>-0.014374</td>\n",
              "      <td>799462</td>\n",
              "    </tr>\n",
              "    <tr>\n",
              "      <th>1</th>\n",
              "      <td>14.694763</td>\n",
              "      <td>-0.649802</td>\n",
              "      <td>0.066176</td>\n",
              "      <td>179759</td>\n",
              "    </tr>\n",
              "    <tr>\n",
              "      <th>2</th>\n",
              "      <td>111.421029</td>\n",
              "      <td>-0.917046</td>\n",
              "      <td>-0.137401</td>\n",
              "      <td>2944</td>\n",
              "    </tr>\n",
              "  </tbody>\n",
              "</table>\n",
              "</div>"
            ],
            "text/plain": [
              "   Popularity  Interaction       Geo  Occurence\n",
              "0   -3.714422     0.149485 -0.014374     799462\n",
              "1   14.694763    -0.649802  0.066176     179759\n",
              "2  111.421029    -0.917046 -0.137401       2944"
            ]
          },
          "metadata": {
            "tags": []
          },
          "execution_count": 58
        }
      ]
    },
    {
      "cell_type": "markdown",
      "metadata": {
        "id": "o7LoA-P57x48"
      },
      "source": [
        "#### Add labels to users dataset "
      ]
    },
    {
      "cell_type": "code",
      "metadata": {
        "id": "ZqKWOaXN7wsj"
      },
      "source": [
        "users['Weighted Cluster'] = weighted_clustering_data[ \"Kmean Labels\"]"
      ],
      "execution_count": null,
      "outputs": []
    },
    {
      "cell_type": "markdown",
      "metadata": {
        "id": "ZN6r6D-Hvepy"
      },
      "source": [
        "### Analysis of cluster centers"
      ]
    },
    {
      "cell_type": "markdown",
      "metadata": {
        "id": "kTjXfgQO-V6o"
      },
      "source": [
        "### Description of users data by cluster "
      ]
    },
    {
      "cell_type": "code",
      "metadata": {
        "id": "kTcfPxWX-m71"
      },
      "source": [
        "cluster_0_w = users[users['Weighted Cluster']==0]\r\n",
        "cluster_1_w = users[users['Weighted Cluster']==1]\r\n",
        "cluster_2_w = users[users['Weighted Cluster']==2]"
      ],
      "execution_count": null,
      "outputs": []
    },
    {
      "cell_type": "code",
      "metadata": {
        "id": "14C6-WGZ-55G"
      },
      "source": [
        "cluster_0 = users[users['Normalized Cluster']==0]\r\n",
        "cluster_1 = users[users['Normalized Cluster']==1]\r\n",
        "cluster_2 = users[users['Normalized Cluster']==2]\r\n",
        "cluster_3 = users[users['Normalized Cluster']==3]"
      ],
      "execution_count": null,
      "outputs": []
    },
    {
      "cell_type": "code",
      "metadata": {
        "id": "UlWHZsbzAGRH"
      },
      "source": [
        "comparison_columns = ['Followers_Count', 'Friends_Count',\r\n",
        "       'Favourites_Count', 'Verified','Favorite_Count',\r\n",
        "       'Latitude', 'Longitude','Age of User Created_At']"
      ],
      "execution_count": null,
      "outputs": []
    },
    {
      "cell_type": "code",
      "metadata": {
        "id": "hlZHYKUBmfxq"
      },
      "source": [
        "#users['Weighted Cluster'].value_counts()"
      ],
      "execution_count": null,
      "outputs": []
    },
    {
      "cell_type": "code",
      "metadata": {
        "id": "djiHl0ah_1ug"
      },
      "source": [
        "tab = users.groupby('Weighted Cluster').agg(\"mean\")[comparison_columns]\r\n",
        "tab.reset_index(inplace = True)\r\n",
        "tab = tab.dropna()"
      ],
      "execution_count": null,
      "outputs": []
    },
    {
      "cell_type": "code",
      "metadata": {
        "colab": {
          "base_uri": "https://localhost:8080/",
          "height": 1000
        },
        "id": "SBFqMDh7A5HM",
        "outputId": "fb1c1391-59db-4d23-f7e9-1cad4a9754a6"
      },
      "source": [
        "for col in list(tab.columns[1:]): \r\n",
        "    sns.catplot(x = str(col), y = 'Weighted Cluster',  data =tab, orient= \"h\",  kind=\"bar\", palette = \"Set3\")\r\n",
        "    plt.show()"
      ],
      "execution_count": null,
      "outputs": [
        {
          "output_type": "display_data",
          "data": {
            "image/png": "[encoded data removed]",
            "text/plain": [
              "<Figure size 360x360 with 1 Axes>"
            ]
          },
          "metadata": {
            "tags": [],
            "needs_background": "light"
          }
        },
        {
          "output_type": "display_data",
          "data": {
            "image/png": "[encoded data removed]",
            "text/plain": [
              "<Figure size 360x360 with 1 Axes>"
            ]
          },
          "metadata": {
            "tags": [],
            "needs_background": "light"
          }
        },
        {
          "output_type": "display_data",
          "data": {
            "image/png": "[encoded data removed]",
            "text/plain": [
              "<Figure size 360x360 with 1 Axes>"
            ]
          },
          "metadata": {
            "tags": [],
            "needs_background": "light"
          }
        },
        {
          "output_type": "display_data",
          "data": {
            "image/png": "[encoded data removed]",
            "text/plain": [
              "<Figure size 360x360 with 1 Axes>"
            ]
          },
          "metadata": {
            "tags": [],
            "needs_background": "light"
          }
        },
        {
          "output_type": "display_data",
          "data": {
            "image/png": "[encoded data removed]",
            "text/plain": [
              "<Figure size 360x360 with 1 Axes>"
            ]
          },
          "metadata": {
            "tags": [],
            "needs_background": "light"
          }
        },
        {
          "output_type": "display_data",
          "data": {
            "image/png": "[encoded data removed]",
            "text/plain": [
              "<Figure size 360x360 with 1 Axes>"
            ]
          },
          "metadata": {
            "tags": [],
            "needs_background": "light"
          }
        },
        {
          "output_type": "display_data",
          "data": {
            "image/png": "[encoded data removed]",
            "text/plain": [
              "<Figure size 360x360 with 1 Axes>"
            ]
          },
          "metadata": {
            "tags": [],
            "needs_background": "light"
          }
        },
        {
          "output_type": "display_data",
          "data": {
            "image/png": "[encoded data removed]",
            "text/plain": [
              "<Figure size 360x360 with 1 Axes>"
            ]
          },
          "metadata": {
            "tags": [],
            "needs_background": "light"
          }
        }
      ]
    },
    {
      "cell_type": "code",
      "metadata": {
        "colab": {
          "base_uri": "https://localhost:8080/",
          "height": 349
        },
        "id": "d-UZVrLW_Ouj",
        "outputId": "45f5fe27-8a75-467f-aec7-b97f0fbf1133"
      },
      "source": [
        "cluster_0_w.describe()"
      ],
      "execution_count": null,
      "outputs": [
        {
          "output_type": "execute_result",
          "data": {
            "text/html": [
              "<div>\n",
              "<style scoped>\n",
              "    .dataframe tbody tr th:only-of-type {\n",
              "        vertical-align: middle;\n",
              "    }\n",
              "\n",
              "    .dataframe tbody tr th {\n",
              "        vertical-align: top;\n",
              "    }\n",
              "\n",
              "    .dataframe thead th {\n",
              "        text-align: right;\n",
              "    }\n",
              "</style>\n",
              "<table border=\"1\" class=\"dataframe\">\n",
              "  <thead>\n",
              "    <tr style=\"text-align: right;\">\n",
              "      <th></th>\n",
              "      <th>Followers_Count</th>\n",
              "      <th>Friends_Count</th>\n",
              "      <th>Favourites_Count</th>\n",
              "      <th>Verified</th>\n",
              "      <th>Favorite_Count</th>\n",
              "      <th>Retweeted</th>\n",
              "      <th>Reply_Count</th>\n",
              "      <th>Retweet_Count</th>\n",
              "      <th>Retweeted.1</th>\n",
              "      <th>Unnamed: 0_y</th>\n",
              "      <th>Latitude</th>\n",
              "      <th>Longitude</th>\n",
              "      <th>Weekday of Date</th>\n",
              "      <th>Month of Date</th>\n",
              "      <th>Age of User Created_At</th>\n",
              "      <th>Weekday of User Created_At</th>\n",
              "      <th>Month of User Created_At</th>\n",
              "      <th>Weekday of Created_At</th>\n",
              "      <th>Month of Created_At</th>\n",
              "      <th>Popularity Normalized</th>\n",
              "      <th>Interaction Normalized</th>\n",
              "      <th>Geo Normalized</th>\n",
              "      <th>Popularity Weighted</th>\n",
              "      <th>Interaction Weighted</th>\n",
              "      <th>Geo Weighted</th>\n",
              "      <th>Normalized Cluster</th>\n",
              "      <th>Weighted Cluster</th>\n",
              "    </tr>\n",
              "  </thead>\n",
              "  <tbody>\n",
              "    <tr>\n",
              "      <th>count</th>\n",
              "      <td>7.994620e+05</td>\n",
              "      <td>799462.000000</td>\n",
              "      <td>7.994620e+05</td>\n",
              "      <td>799462.000000</td>\n",
              "      <td>799462.000000</td>\n",
              "      <td>799462.0</td>\n",
              "      <td>799462.0</td>\n",
              "      <td>799462.000000</td>\n",
              "      <td>799462.0</td>\n",
              "      <td>799462.000000</td>\n",
              "      <td>799462.000000</td>\n",
              "      <td>799462.000000</td>\n",
              "      <td>799462.000000</td>\n",
              "      <td>799462.000000</td>\n",
              "      <td>799462.000000</td>\n",
              "      <td>799462.000000</td>\n",
              "      <td>799462.000000</td>\n",
              "      <td>799462.000000</td>\n",
              "      <td>799462.000000</td>\n",
              "      <td>799462.000000</td>\n",
              "      <td>7.994620e+05</td>\n",
              "      <td>799462.000000</td>\n",
              "      <td>799462.000000</td>\n",
              "      <td>7.994620e+05</td>\n",
              "      <td>799462.000000</td>\n",
              "      <td>799462.000000</td>\n",
              "      <td>799462.0</td>\n",
              "    </tr>\n",
              "    <tr>\n",
              "      <th>mean</th>\n",
              "      <td>6.381987e+03</td>\n",
              "      <td>2364.395746</td>\n",
              "      <td>2.198751e+04</td>\n",
              "      <td>0.000001</td>\n",
              "      <td>6.493731</td>\n",
              "      <td>0.0</td>\n",
              "      <td>0.0</td>\n",
              "      <td>1.341771</td>\n",
              "      <td>0.0</td>\n",
              "      <td>694.446212</td>\n",
              "      <td>36.697117</td>\n",
              "      <td>-51.819504</td>\n",
              "      <td>1.601798</td>\n",
              "      <td>11.669076</td>\n",
              "      <td>2626.680496</td>\n",
              "      <td>2.799987</td>\n",
              "      <td>6.235695</td>\n",
              "      <td>1.601798</td>\n",
              "      <td>11.669076</td>\n",
              "      <td>-0.408379</td>\n",
              "      <td>2.662094e+03</td>\n",
              "      <td>-0.985086</td>\n",
              "      <td>-0.408379</td>\n",
              "      <td>2.662094e+03</td>\n",
              "      <td>-0.985086</td>\n",
              "      <td>0.706692</td>\n",
              "      <td>0.0</td>\n",
              "    </tr>\n",
              "    <tr>\n",
              "      <th>std</th>\n",
              "      <td>4.109442e+04</td>\n",
              "      <td>7278.973675</td>\n",
              "      <td>5.738001e+04</td>\n",
              "      <td>0.000791</td>\n",
              "      <td>539.519513</td>\n",
              "      <td>0.0</td>\n",
              "      <td>0.0</td>\n",
              "      <td>115.914551</td>\n",
              "      <td>0.0</td>\n",
              "      <td>1146.500406</td>\n",
              "      <td>17.820626</td>\n",
              "      <td>67.446023</td>\n",
              "      <td>1.364537</td>\n",
              "      <td>0.470546</td>\n",
              "      <td>1441.641739</td>\n",
              "      <td>1.949902</td>\n",
              "      <td>3.361845</td>\n",
              "      <td>1.364537</td>\n",
              "      <td>0.470546</td>\n",
              "      <td>0.046546</td>\n",
              "      <td>5.738007e+04</td>\n",
              "      <td>67.883804</td>\n",
              "      <td>0.046546</td>\n",
              "      <td>5.738007e+04</td>\n",
              "      <td>67.883804</td>\n",
              "      <td>0.510343</td>\n",
              "      <td>0.0</td>\n",
              "    </tr>\n",
              "    <tr>\n",
              "      <th>min</th>\n",
              "      <td>0.000000e+00</td>\n",
              "      <td>0.000000</td>\n",
              "      <td>0.000000e+00</td>\n",
              "      <td>0.000000</td>\n",
              "      <td>0.000000</td>\n",
              "      <td>0.0</td>\n",
              "      <td>0.0</td>\n",
              "      <td>0.000000</td>\n",
              "      <td>0.0</td>\n",
              "      <td>0.000000</td>\n",
              "      <td>-79.406307</td>\n",
              "      <td>-157.855676</td>\n",
              "      <td>0.000000</td>\n",
              "      <td>11.000000</td>\n",
              "      <td>20.000000</td>\n",
              "      <td>0.000000</td>\n",
              "      <td>1.000000</td>\n",
              "      <td>0.000000</td>\n",
              "      <td>11.000000</td>\n",
              "      <td>-0.423913</td>\n",
              "      <td>-1.932732e+04</td>\n",
              "      <td>-104.520977</td>\n",
              "      <td>-0.423913</td>\n",
              "      <td>-1.932732e+04</td>\n",
              "      <td>-104.520977</td>\n",
              "      <td>0.000000</td>\n",
              "      <td>0.0</td>\n",
              "    </tr>\n",
              "    <tr>\n",
              "      <th>25%</th>\n",
              "      <td>1.700000e+02</td>\n",
              "      <td>232.000000</td>\n",
              "      <td>4.820000e+02</td>\n",
              "      <td>0.000000</td>\n",
              "      <td>0.000000</td>\n",
              "      <td>0.0</td>\n",
              "      <td>0.0</td>\n",
              "      <td>0.000000</td>\n",
              "      <td>0.0</td>\n",
              "      <td>27.000000</td>\n",
              "      <td>33.750038</td>\n",
              "      <td>-99.512099</td>\n",
              "      <td>1.000000</td>\n",
              "      <td>11.000000</td>\n",
              "      <td>1369.000000</td>\n",
              "      <td>1.000000</td>\n",
              "      <td>3.000000</td>\n",
              "      <td>1.000000</td>\n",
              "      <td>11.000000</td>\n",
              "      <td>-0.422325</td>\n",
              "      <td>-1.884405e+04</td>\n",
              "      <td>-47.789920</td>\n",
              "      <td>-0.422325</td>\n",
              "      <td>-1.884405e+04</td>\n",
              "      <td>-47.789920</td>\n",
              "      <td>0.000000</td>\n",
              "      <td>0.0</td>\n",
              "    </tr>\n",
              "    <tr>\n",
              "      <th>50%</th>\n",
              "      <td>7.540000e+02</td>\n",
              "      <td>668.000000</td>\n",
              "      <td>3.767000e+03</td>\n",
              "      <td>0.000000</td>\n",
              "      <td>0.000000</td>\n",
              "      <td>0.0</td>\n",
              "      <td>0.0</td>\n",
              "      <td>0.000000</td>\n",
              "      <td>0.0</td>\n",
              "      <td>150.000000</td>\n",
              "      <td>39.783730</td>\n",
              "      <td>-78.890041</td>\n",
              "      <td>1.000000</td>\n",
              "      <td>12.000000</td>\n",
              "      <td>2934.000000</td>\n",
              "      <td>3.000000</td>\n",
              "      <td>6.000000</td>\n",
              "      <td>1.000000</td>\n",
              "      <td>12.000000</td>\n",
              "      <td>-0.419305</td>\n",
              "      <td>-1.555825e+04</td>\n",
              "      <td>-27.845396</td>\n",
              "      <td>-0.419305</td>\n",
              "      <td>-1.555825e+04</td>\n",
              "      <td>-27.845396</td>\n",
              "      <td>1.000000</td>\n",
              "      <td>0.0</td>\n",
              "    </tr>\n",
              "    <tr>\n",
              "      <th>75%</th>\n",
              "      <td>3.039000e+03</td>\n",
              "      <td>1931.000000</td>\n",
              "      <td>1.832600e+04</td>\n",
              "      <td>0.000000</td>\n",
              "      <td>1.000000</td>\n",
              "      <td>0.0</td>\n",
              "      <td>0.0</td>\n",
              "      <td>0.000000</td>\n",
              "      <td>0.0</td>\n",
              "      <td>771.000000</td>\n",
              "      <td>45.709097</td>\n",
              "      <td>-1.991194</td>\n",
              "      <td>2.000000</td>\n",
              "      <td>12.000000</td>\n",
              "      <td>3945.000000</td>\n",
              "      <td>4.000000</td>\n",
              "      <td>9.000000</td>\n",
              "      <td>2.000000</td>\n",
              "      <td>12.000000</td>\n",
              "      <td>-0.411305</td>\n",
              "      <td>-9.988500e+02</td>\n",
              "      <td>46.700591</td>\n",
              "      <td>-0.411305</td>\n",
              "      <td>-9.988500e+02</td>\n",
              "      <td>46.700591</td>\n",
              "      <td>1.000000</td>\n",
              "      <td>0.0</td>\n",
              "    </tr>\n",
              "    <tr>\n",
              "      <th>max</th>\n",
              "      <td>1.893300e+06</td>\n",
              "      <td>187719.000000</td>\n",
              "      <td>2.554744e+06</td>\n",
              "      <td>0.500000</td>\n",
              "      <td>335069.000000</td>\n",
              "      <td>0.0</td>\n",
              "      <td>0.0</td>\n",
              "      <td>73993.000000</td>\n",
              "      <td>0.0</td>\n",
              "      <td>5304.000000</td>\n",
              "      <td>90.000000</td>\n",
              "      <td>179.012274</td>\n",
              "      <td>6.000000</td>\n",
              "      <td>12.000000</td>\n",
              "      <td>5284.000000</td>\n",
              "      <td>6.000000</td>\n",
              "      <td>12.000000</td>\n",
              "      <td>6.000000</td>\n",
              "      <td>12.000000</td>\n",
              "      <td>0.648579</td>\n",
              "      <td>2.535419e+06</td>\n",
              "      <td>234.646554</td>\n",
              "      <td>0.648579</td>\n",
              "      <td>2.535419e+06</td>\n",
              "      <td>234.646554</td>\n",
              "      <td>2.000000</td>\n",
              "      <td>0.0</td>\n",
              "    </tr>\n",
              "  </tbody>\n",
              "</table>\n",
              "</div>"
            ],
            "text/plain": [
              "       Followers_Count  Friends_Count  ...  Normalized Cluster  Weighted Cluster\n",
              "count     7.994620e+05  799462.000000  ...       799462.000000          799462.0\n",
              "mean      6.381987e+03    2364.395746  ...            0.706692               0.0\n",
              "std       4.109442e+04    7278.973675  ...            0.510343               0.0\n",
              "min       0.000000e+00       0.000000  ...            0.000000               0.0\n",
              "25%       1.700000e+02     232.000000  ...            0.000000               0.0\n",
              "50%       7.540000e+02     668.000000  ...            1.000000               0.0\n",
              "75%       3.039000e+03    1931.000000  ...            1.000000               0.0\n",
              "max       1.893300e+06  187719.000000  ...            2.000000               0.0\n",
              "\n",
              "[8 rows x 27 columns]"
            ]
          },
          "metadata": {
            "tags": []
          },
          "execution_count": 66
        }
      ]
    },
    {
      "cell_type": "markdown",
      "metadata": {
        "id": "zbHRBgMNgVjv"
      },
      "source": [
        "# Stop \r\n"
      ]
    },
    {
      "cell_type": "markdown",
      "metadata": {
        "id": "aHxwYo8aSszB"
      },
      "source": [
        "# IV. Application of Hierarchichal clustering"
      ]
    },
    {
      "cell_type": "markdown",
      "metadata": {
        "id": "YD2GhyiAjGNz"
      },
      "source": [
        "## A. Building the clustering features"
      ]
    },
    {
      "cell_type": "markdown",
      "metadata": {
        "id": "972icWXOjGN2"
      },
      "source": [
        "##### Choice of features \r\n"
      ]
    },
    {
      "cell_type": "code",
      "metadata": {
        "id": "nyTUKU_kjGOS"
      },
      "source": [
        "popularity_features = ['Followers_Count', 'Friends_Count','Verified']\r\n",
        "interaction_features = ['Favourites_Count',  'Age of User Created_At']\r\n",
        "geo_features = ['Latitude', 'Longitude']"
      ],
      "execution_count": null,
      "outputs": []
    },
    {
      "cell_type": "code",
      "metadata": {
        "id": "oZpiEyv-jGOV"
      },
      "source": [
        "all_features =  ['Id'] + popularity_features + interaction_features + geo_features "
      ],
      "execution_count": null,
      "outputs": []
    },
    {
      "cell_type": "markdown",
      "metadata": {
        "id": "sP3TF5J1jGOW"
      },
      "source": [
        "##### Creation of users dataset"
      ]
    },
    {
      "cell_type": "code",
      "metadata": {
        "id": "MUNVo3zSjGOX"
      },
      "source": [
        "users = get_enriched_data()\r\n",
        "users = users.dropna()"
      ],
      "execution_count": null,
      "outputs": []
    },
    {
      "cell_type": "markdown",
      "metadata": {
        "id": "BoP0nC4DjGOX"
      },
      "source": [
        "###### Transformation of features"
      ]
    },
    {
      "cell_type": "code",
      "metadata": {
        "id": "fMWKi9wzjGOY"
      },
      "source": [
        "users['Age of User Created_At'] =users['Age of User Created_At'].apply(lambda x : int(str(x)[:-14]) if x != np.NaN  and x != '' else '')"
      ],
      "execution_count": null,
      "outputs": []
    },
    {
      "cell_type": "markdown",
      "metadata": {
        "id": "EvZoNiHLjGOZ"
      },
      "source": [
        "###### Aggregate information by user "
      ]
    },
    {
      "cell_type": "code",
      "metadata": {
        "id": "0MAAFB2qjGOa"
      },
      "source": [
        "users = users.groupby(['Id']).agg('mean')\r\n",
        "users.reset_index(inplace = True)"
      ],
      "execution_count": null,
      "outputs": []
    },
    {
      "cell_type": "code",
      "metadata": {
        "colab": {
          "base_uri": "https://localhost:8080/"
        },
        "id": "nUHM6_hGjGOa",
        "outputId": "88eaa467-197b-40b8-e4e9-7c2c7073f826"
      },
      "source": [
        "clustering_data = users[all_features]\r\n",
        "clustering_data"
      ],
      "execution_count": null,
      "outputs": [
        {
          "output_type": "execute_result",
          "data": {
            "text/html": [
              "<div>\n",
              "<style scoped>\n",
              "    .dataframe tbody tr th:only-of-type {\n",
              "        vertical-align: middle;\n",
              "    }\n",
              "\n",
              "    .dataframe tbody tr th {\n",
              "        vertical-align: top;\n",
              "    }\n",
              "\n",
              "    .dataframe thead th {\n",
              "        text-align: right;\n",
              "    }\n",
              "</style>\n",
              "<table border=\"1\" class=\"dataframe\">\n",
              "  <thead>\n",
              "    <tr style=\"text-align: right;\">\n",
              "      <th></th>\n",
              "      <th>Id</th>\n",
              "      <th>Followers_Count</th>\n",
              "      <th>Friends_Count</th>\n",
              "      <th>Verified</th>\n",
              "      <th>Favourites_Count</th>\n",
              "      <th>Age of User Created_At</th>\n",
              "      <th>Latitude</th>\n",
              "      <th>Longitude</th>\n",
              "    </tr>\n",
              "  </thead>\n",
              "  <tbody>\n",
              "    <tr>\n",
              "      <th>0</th>\n",
              "      <td>1336391341069234176</td>\n",
              "      <td>645.0</td>\n",
              "      <td>1635.0</td>\n",
              "      <td>0.0</td>\n",
              "      <td>16840.0</td>\n",
              "      <td>1301</td>\n",
              "      <td>52.500170</td>\n",
              "      <td>5.748082</td>\n",
              "    </tr>\n",
              "    <tr>\n",
              "      <th>1</th>\n",
              "      <td>1336391341148762112</td>\n",
              "      <td>127586.0</td>\n",
              "      <td>1798.0</td>\n",
              "      <td>1.0</td>\n",
              "      <td>575.0</td>\n",
              "      <td>4065</td>\n",
              "      <td>55.001251</td>\n",
              "      <td>-125.002441</td>\n",
              "    </tr>\n",
              "    <tr>\n",
              "      <th>2</th>\n",
              "      <td>1336391342734323717</td>\n",
              "      <td>357.0</td>\n",
              "      <td>250.0</td>\n",
              "      <td>0.0</td>\n",
              "      <td>6906.0</td>\n",
              "      <td>2186</td>\n",
              "      <td>38.414733</td>\n",
              "      <td>27.143412</td>\n",
              "    </tr>\n",
              "    <tr>\n",
              "      <th>3</th>\n",
              "      <td>1336391342788931585</td>\n",
              "      <td>178.0</td>\n",
              "      <td>1215.0</td>\n",
              "      <td>0.0</td>\n",
              "      <td>15181.0</td>\n",
              "      <td>3485</td>\n",
              "      <td>41.796241</td>\n",
              "      <td>-71.599237</td>\n",
              "    </tr>\n",
              "    <tr>\n",
              "      <th>4</th>\n",
              "      <td>1336391343166328832</td>\n",
              "      <td>5.0</td>\n",
              "      <td>67.0</td>\n",
              "      <td>0.0</td>\n",
              "      <td>501.0</td>\n",
              "      <td>70</td>\n",
              "      <td>55.860982</td>\n",
              "      <td>-4.248879</td>\n",
              "    </tr>\n",
              "    <tr>\n",
              "      <th>...</th>\n",
              "      <td>...</td>\n",
              "      <td>...</td>\n",
              "      <td>...</td>\n",
              "      <td>...</td>\n",
              "      <td>...</td>\n",
              "      <td>...</td>\n",
              "      <td>...</td>\n",
              "      <td>...</td>\n",
              "    </tr>\n",
              "    <tr>\n",
              "      <th>982160</th>\n",
              "      <td>1336680117431627777</td>\n",
              "      <td>172.0</td>\n",
              "      <td>325.0</td>\n",
              "      <td>0.0</td>\n",
              "      <td>574.0</td>\n",
              "      <td>36</td>\n",
              "      <td>56.786111</td>\n",
              "      <td>-4.114052</td>\n",
              "    </tr>\n",
              "    <tr>\n",
              "      <th>982161</th>\n",
              "      <td>1336680117947551749</td>\n",
              "      <td>21465.0</td>\n",
              "      <td>446.0</td>\n",
              "      <td>0.0</td>\n",
              "      <td>219.0</td>\n",
              "      <td>2171</td>\n",
              "      <td>9.600036</td>\n",
              "      <td>7.999972</td>\n",
              "    </tr>\n",
              "    <tr>\n",
              "      <th>982162</th>\n",
              "      <td>1336680119516065793</td>\n",
              "      <td>29.0</td>\n",
              "      <td>147.0</td>\n",
              "      <td>0.0</td>\n",
              "      <td>2713.0</td>\n",
              "      <td>938</td>\n",
              "      <td>19.587268</td>\n",
              "      <td>-155.426890</td>\n",
              "    </tr>\n",
              "    <tr>\n",
              "      <th>982163</th>\n",
              "      <td>1336680120443138051</td>\n",
              "      <td>743.0</td>\n",
              "      <td>934.0</td>\n",
              "      <td>0.0</td>\n",
              "      <td>8939.0</td>\n",
              "      <td>862</td>\n",
              "      <td>53.349764</td>\n",
              "      <td>-6.260273</td>\n",
              "    </tr>\n",
              "    <tr>\n",
              "      <th>982164</th>\n",
              "      <td>1336680120795484160</td>\n",
              "      <td>264.0</td>\n",
              "      <td>488.0</td>\n",
              "      <td>0.0</td>\n",
              "      <td>1394.0</td>\n",
              "      <td>2106</td>\n",
              "      <td>51.507322</td>\n",
              "      <td>-0.127647</td>\n",
              "    </tr>\n",
              "  </tbody>\n",
              "</table>\n",
              "<p>982165 rows × 8 columns</p>\n",
              "</div>"
            ],
            "text/plain": [
              "                         Id  Followers_Count  ...   Latitude   Longitude\n",
              "0       1336391341069234176            645.0  ...  52.500170    5.748082\n",
              "1       1336391341148762112         127586.0  ...  55.001251 -125.002441\n",
              "2       1336391342734323717            357.0  ...  38.414733   27.143412\n",
              "3       1336391342788931585            178.0  ...  41.796241  -71.599237\n",
              "4       1336391343166328832              5.0  ...  55.860982   -4.248879\n",
              "...                     ...              ...  ...        ...         ...\n",
              "982160  1336680117431627777            172.0  ...  56.786111   -4.114052\n",
              "982161  1336680117947551749          21465.0  ...   9.600036    7.999972\n",
              "982162  1336680119516065793             29.0  ...  19.587268 -155.426890\n",
              "982163  1336680120443138051            743.0  ...  53.349764   -6.260273\n",
              "982164  1336680120795484160            264.0  ...  51.507322   -0.127647\n",
              "\n",
              "[982165 rows x 8 columns]"
            ]
          },
          "metadata": {
            "tags": []
          },
          "execution_count": 38
        }
      ]
    },
    {
      "cell_type": "markdown",
      "metadata": {
        "id": "2I_MOuBdjGOe"
      },
      "source": [
        "##### Dimension reduction by group of features"
      ]
    },
    {
      "cell_type": "markdown",
      "metadata": {
        "id": "9yd4BgwojGOe"
      },
      "source": [
        "###### Application of PCA on popularity features "
      ]
    },
    {
      "cell_type": "code",
      "metadata": {
        "colab": {
          "base_uri": "https://localhost:8080/"
        },
        "id": "Mh8wivYGjGOf",
        "outputId": "84f75e20-2890-4696-e15c-b94dd566d626"
      },
      "source": [
        "X = clustering_data[popularity_features]\r\n",
        "scaler = StandardScaler()\r\n",
        "scaler.fit(X)\r\n",
        "X = scaler.transform(X)\r\n",
        "pca = PCA(n_components=1)\r\n",
        "pca.fit(X)\r\n",
        "print(\"The variance explained is\", pca.explained_variance_ratio_[0])"
      ],
      "execution_count": null,
      "outputs": [
        {
          "output_type": "stream",
          "text": [
            "The variance explained is 0.40292432109676213\n"
          ],
          "name": "stdout"
        }
      ]
    },
    {
      "cell_type": "code",
      "metadata": {
        "id": "VZE4mY_OjGOg"
      },
      "source": [
        "popularity_axis = pca.fit_transform(X)"
      ],
      "execution_count": null,
      "outputs": []
    },
    {
      "cell_type": "markdown",
      "metadata": {
        "id": "yTvZ-40wjGOh"
      },
      "source": [
        "###### Application of PCA on interraction features"
      ]
    },
    {
      "cell_type": "code",
      "metadata": {
        "colab": {
          "base_uri": "https://localhost:8080/"
        },
        "id": "Vu2YeurbjGOi",
        "outputId": "a519371f-3bad-4b5c-98e6-a1259414db02"
      },
      "source": [
        "X = clustering_data[interaction_features]\r\n",
        "scaler = StandardScaler()\r\n",
        "scaler.fit(X)\r\n",
        "pca = PCA(n_components=1)\r\n",
        "pca.fit(X)\r\n",
        "print(\"The variance explained is\", pca.explained_variance_ratio_[0])"
      ],
      "execution_count": null,
      "outputs": [
        {
          "output_type": "stream",
          "text": [
            "The variance explained is 0.9992616477114816\n"
          ],
          "name": "stdout"
        }
      ]
    },
    {
      "cell_type": "code",
      "metadata": {
        "id": "DlwF8xWCjGOj"
      },
      "source": [
        "interaction_axis = pca.fit_transform(X)"
      ],
      "execution_count": null,
      "outputs": []
    },
    {
      "cell_type": "markdown",
      "metadata": {
        "id": "B_KZql1sjGOj"
      },
      "source": [
        "###### Application of PCA on geographic features"
      ]
    },
    {
      "cell_type": "code",
      "metadata": {
        "colab": {
          "base_uri": "https://localhost:8080/"
        },
        "id": "lOKfeybqjGOk",
        "outputId": "e34bae76-4479-4fe0-8ecc-3670e9ff926a"
      },
      "source": [
        "X = clustering_data[geo_features]\r\n",
        "scaler = StandardScaler()\r\n",
        "scaler.fit(X)\r\n",
        "pca = PCA(n_components=1)\r\n",
        "pca.fit(X)\r\n",
        "print(\"The variance explained is\", pca.explained_variance_ratio_[0])"
      ],
      "execution_count": null,
      "outputs": [
        {
          "output_type": "stream",
          "text": [
            "The variance explained is 0.9495587548545729\n"
          ],
          "name": "stdout"
        }
      ]
    },
    {
      "cell_type": "code",
      "metadata": {
        "id": "Fz4Ag7YtjGOl"
      },
      "source": [
        "geo_axis = pca.fit_transform(X)"
      ],
      "execution_count": null,
      "outputs": []
    },
    {
      "cell_type": "markdown",
      "metadata": {
        "id": "qaIeJbwWjGOm"
      },
      "source": [
        "##### Introduction of clustering features into the dataset"
      ]
    },
    {
      "cell_type": "code",
      "metadata": {
        "colab": {
          "base_uri": "https://localhost:8080/"
        },
        "id": "yvNrBz-pjGOm",
        "outputId": "d0944bff-4b66-4161-a342-d2ffa07072ff"
      },
      "source": [
        "clustering_data[\"Popularity\"] = popularity_axis\r\n",
        "clustering_data[\"Interaction\"] = interaction_axis\r\n",
        "clustering_data[\"Geo\"] = geo_axis\r\n",
        "clustering_data"
      ],
      "execution_count": null,
      "outputs": [
        {
          "output_type": "stream",
          "text": [
            "/usr/local/lib/python3.6/dist-packages/ipykernel_launcher.py:1: SettingWithCopyWarning: \n",
            "A value is trying to be set on a copy of a slice from a DataFrame.\n",
            "Try using .loc[row_indexer,col_indexer] = value instead\n",
            "\n",
            "See the caveats in the documentation: https://pandas.pydata.org/pandas-docs/stable/user_guide/indexing.html#returning-a-view-versus-a-copy\n",
            "  \"\"\"Entry point for launching an IPython kernel.\n",
            "/usr/local/lib/python3.6/dist-packages/ipykernel_launcher.py:2: SettingWithCopyWarning: \n",
            "A value is trying to be set on a copy of a slice from a DataFrame.\n",
            "Try using .loc[row_indexer,col_indexer] = value instead\n",
            "\n",
            "See the caveats in the documentation: https://pandas.pydata.org/pandas-docs/stable/user_guide/indexing.html#returning-a-view-versus-a-copy\n",
            "  \n",
            "/usr/local/lib/python3.6/dist-packages/ipykernel_launcher.py:3: SettingWithCopyWarning: \n",
            "A value is trying to be set on a copy of a slice from a DataFrame.\n",
            "Try using .loc[row_indexer,col_indexer] = value instead\n",
            "\n",
            "See the caveats in the documentation: https://pandas.pydata.org/pandas-docs/stable/user_guide/indexing.html#returning-a-view-versus-a-copy\n",
            "  This is separate from the ipykernel package so we can avoid doing imports until\n"
          ],
          "name": "stderr"
        },
        {
          "output_type": "execute_result",
          "data": {
            "text/html": [
              "<div>\n",
              "<style scoped>\n",
              "    .dataframe tbody tr th:only-of-type {\n",
              "        vertical-align: middle;\n",
              "    }\n",
              "\n",
              "    .dataframe tbody tr th {\n",
              "        vertical-align: top;\n",
              "    }\n",
              "\n",
              "    .dataframe thead th {\n",
              "        text-align: right;\n",
              "    }\n",
              "</style>\n",
              "<table border=\"1\" class=\"dataframe\">\n",
              "  <thead>\n",
              "    <tr style=\"text-align: right;\">\n",
              "      <th></th>\n",
              "      <th>Id</th>\n",
              "      <th>Followers_Count</th>\n",
              "      <th>Friends_Count</th>\n",
              "      <th>Verified</th>\n",
              "      <th>Favourites_Count</th>\n",
              "      <th>Age of User Created_At</th>\n",
              "      <th>Latitude</th>\n",
              "      <th>Longitude</th>\n",
              "      <th>Popularity</th>\n",
              "      <th>Interaction</th>\n",
              "      <th>Geo</th>\n",
              "    </tr>\n",
              "  </thead>\n",
              "  <tbody>\n",
              "    <tr>\n",
              "      <th>0</th>\n",
              "      <td>1336391341069234176</td>\n",
              "      <td>645.0</td>\n",
              "      <td>1635.0</td>\n",
              "      <td>0.0</td>\n",
              "      <td>16840.0</td>\n",
              "      <td>1301</td>\n",
              "      <td>52.500170</td>\n",
              "      <td>5.748082</td>\n",
              "      <td>-0.415028</td>\n",
              "      <td>-2486.385322</td>\n",
              "      <td>54.361599</td>\n",
              "    </tr>\n",
              "    <tr>\n",
              "      <th>1</th>\n",
              "      <td>1336391341148762112</td>\n",
              "      <td>127586.0</td>\n",
              "      <td>1798.0</td>\n",
              "      <td>1.0</td>\n",
              "      <td>575.0</td>\n",
              "      <td>4065</td>\n",
              "      <td>55.001251</td>\n",
              "      <td>-125.002441</td>\n",
              "      <td>1.462403</td>\n",
              "      <td>-18749.364397</td>\n",
              "      <td>-75.796879</td>\n",
              "    </tr>\n",
              "    <tr>\n",
              "      <th>2</th>\n",
              "      <td>1336391342734323717</td>\n",
              "      <td>357.0</td>\n",
              "      <td>250.0</td>\n",
              "      <td>0.0</td>\n",
              "      <td>6906.0</td>\n",
              "      <td>2186</td>\n",
              "      <td>38.414733</td>\n",
              "      <td>27.143412</td>\n",
              "      <td>-0.422427</td>\n",
              "      <td>-12419.736988</td>\n",
              "      <td>77.245952</td>\n",
              "    </tr>\n",
              "    <tr>\n",
              "      <th>3</th>\n",
              "      <td>1336391342788931585</td>\n",
              "      <td>178.0</td>\n",
              "      <td>1215.0</td>\n",
              "      <td>0.0</td>\n",
              "      <td>15181.0</td>\n",
              "      <td>3485</td>\n",
              "      <td>41.796241</td>\n",
              "      <td>-71.599237</td>\n",
              "      <td>-0.417459</td>\n",
              "      <td>-4143.791449</td>\n",
              "      <td>-21.222679</td>\n",
              "    </tr>\n",
              "    <tr>\n",
              "      <th>4</th>\n",
              "      <td>1336391343166328832</td>\n",
              "      <td>5.0</td>\n",
              "      <td>67.0</td>\n",
              "      <td>0.0</td>\n",
              "      <td>501.0</td>\n",
              "      <td>70</td>\n",
              "      <td>55.860982</td>\n",
              "      <td>-4.248879</td>\n",
              "      <td>-0.423559</td>\n",
              "      <td>-18826.279103</td>\n",
              "      <td>44.042357</td>\n",
              "    </tr>\n",
              "    <tr>\n",
              "      <th>...</th>\n",
              "      <td>...</td>\n",
              "      <td>...</td>\n",
              "      <td>...</td>\n",
              "      <td>...</td>\n",
              "      <td>...</td>\n",
              "      <td>...</td>\n",
              "      <td>...</td>\n",
              "      <td>...</td>\n",
              "      <td>...</td>\n",
              "      <td>...</td>\n",
              "      <td>...</td>\n",
              "    </tr>\n",
              "    <tr>\n",
              "      <th>982160</th>\n",
              "      <td>1336680117431627777</td>\n",
              "      <td>172.0</td>\n",
              "      <td>325.0</td>\n",
              "      <td>0.0</td>\n",
              "      <td>574.0</td>\n",
              "      <td>36</td>\n",
              "      <td>56.786111</td>\n",
              "      <td>-4.114052</td>\n",
              "      <td>-0.422125</td>\n",
              "      <td>-18753.303929</td>\n",
              "      <td>44.068996</td>\n",
              "    </tr>\n",
              "    <tr>\n",
              "      <th>982161</th>\n",
              "      <td>1336680117947551749</td>\n",
              "      <td>21465.0</td>\n",
              "      <td>446.0</td>\n",
              "      <td>0.0</td>\n",
              "      <td>219.0</td>\n",
              "      <td>2171</td>\n",
              "      <td>9.600036</td>\n",
              "      <td>7.999972</td>\n",
              "      <td>-0.411006</td>\n",
              "      <td>-19106.746152</td>\n",
              "      <td>61.573038</td>\n",
              "    </tr>\n",
              "    <tr>\n",
              "      <th>982162</th>\n",
              "      <td>1336680119516065793</td>\n",
              "      <td>29.0</td>\n",
              "      <td>147.0</td>\n",
              "      <td>0.0</td>\n",
              "      <td>2713.0</td>\n",
              "      <td>938</td>\n",
              "      <td>19.587268</td>\n",
              "      <td>-155.426890</td>\n",
              "      <td>-0.423128</td>\n",
              "      <td>-16613.646405</td>\n",
              "      <td>-101.909438</td>\n",
              "    </tr>\n",
              "    <tr>\n",
              "      <th>982163</th>\n",
              "      <td>1336680120443138051</td>\n",
              "      <td>743.0</td>\n",
              "      <td>934.0</td>\n",
              "      <td>0.0</td>\n",
              "      <td>8939.0</td>\n",
              "      <td>862</td>\n",
              "      <td>53.349764</td>\n",
              "      <td>-6.260273</td>\n",
              "      <td>-0.418653</td>\n",
              "      <td>-10387.703511</td>\n",
              "      <td>42.335735</td>\n",
              "    </tr>\n",
              "    <tr>\n",
              "      <th>982164</th>\n",
              "      <td>1336680120795484160</td>\n",
              "      <td>264.0</td>\n",
              "      <td>488.0</td>\n",
              "      <td>0.0</td>\n",
              "      <td>1394.0</td>\n",
              "      <td>2106</td>\n",
              "      <td>51.507322</td>\n",
              "      <td>-0.127647</td>\n",
              "      <td>-0.421226</td>\n",
              "      <td>-17931.793889</td>\n",
              "      <td>48.640640</td>\n",
              "    </tr>\n",
              "  </tbody>\n",
              "</table>\n",
              "<p>982165 rows × 11 columns</p>\n",
              "</div>"
            ],
            "text/plain": [
              "                         Id  Followers_Count  ...   Interaction         Geo\n",
              "0       1336391341069234176            645.0  ...  -2486.385322   54.361599\n",
              "1       1336391341148762112         127586.0  ... -18749.364397  -75.796879\n",
              "2       1336391342734323717            357.0  ... -12419.736988   77.245952\n",
              "3       1336391342788931585            178.0  ...  -4143.791449  -21.222679\n",
              "4       1336391343166328832              5.0  ... -18826.279103   44.042357\n",
              "...                     ...              ...  ...           ...         ...\n",
              "982160  1336680117431627777            172.0  ... -18753.303929   44.068996\n",
              "982161  1336680117947551749          21465.0  ... -19106.746152   61.573038\n",
              "982162  1336680119516065793             29.0  ... -16613.646405 -101.909438\n",
              "982163  1336680120443138051            743.0  ... -10387.703511   42.335735\n",
              "982164  1336680120795484160            264.0  ... -17931.793889   48.640640\n",
              "\n",
              "[982165 rows x 11 columns]"
            ]
          },
          "metadata": {
            "tags": []
          },
          "execution_count": 45
        }
      ]
    },
    {
      "cell_type": "code",
      "metadata": {
        "colab": {
          "base_uri": "https://localhost:8080/"
        },
        "id": "8HrQHCEZjGOn",
        "outputId": "d3fd7635-d701-4a0a-bd3d-70fa6565a933"
      },
      "source": [
        "clustering_data"
      ],
      "execution_count": null,
      "outputs": [
        {
          "output_type": "execute_result",
          "data": {
            "text/html": [
              "<div>\n",
              "<style scoped>\n",
              "    .dataframe tbody tr th:only-of-type {\n",
              "        vertical-align: middle;\n",
              "    }\n",
              "\n",
              "    .dataframe tbody tr th {\n",
              "        vertical-align: top;\n",
              "    }\n",
              "\n",
              "    .dataframe thead th {\n",
              "        text-align: right;\n",
              "    }\n",
              "</style>\n",
              "<table border=\"1\" class=\"dataframe\">\n",
              "  <thead>\n",
              "    <tr style=\"text-align: right;\">\n",
              "      <th></th>\n",
              "      <th>Id</th>\n",
              "      <th>Followers_Count</th>\n",
              "      <th>Friends_Count</th>\n",
              "      <th>Verified</th>\n",
              "      <th>Favourites_Count</th>\n",
              "      <th>Age of User Created_At</th>\n",
              "      <th>Latitude</th>\n",
              "      <th>Longitude</th>\n",
              "      <th>Popularity</th>\n",
              "      <th>Interaction</th>\n",
              "      <th>Geo</th>\n",
              "    </tr>\n",
              "  </thead>\n",
              "  <tbody>\n",
              "    <tr>\n",
              "      <th>0</th>\n",
              "      <td>1336391341069234176</td>\n",
              "      <td>645.0</td>\n",
              "      <td>1635.0</td>\n",
              "      <td>0.0</td>\n",
              "      <td>16840.0</td>\n",
              "      <td>1301</td>\n",
              "      <td>52.500170</td>\n",
              "      <td>5.748082</td>\n",
              "      <td>-0.415028</td>\n",
              "      <td>-2486.385322</td>\n",
              "      <td>54.361599</td>\n",
              "    </tr>\n",
              "    <tr>\n",
              "      <th>1</th>\n",
              "      <td>1336391341148762112</td>\n",
              "      <td>127586.0</td>\n",
              "      <td>1798.0</td>\n",
              "      <td>1.0</td>\n",
              "      <td>575.0</td>\n",
              "      <td>4065</td>\n",
              "      <td>55.001251</td>\n",
              "      <td>-125.002441</td>\n",
              "      <td>1.462403</td>\n",
              "      <td>-18749.364397</td>\n",
              "      <td>-75.796879</td>\n",
              "    </tr>\n",
              "    <tr>\n",
              "      <th>2</th>\n",
              "      <td>1336391342734323717</td>\n",
              "      <td>357.0</td>\n",
              "      <td>250.0</td>\n",
              "      <td>0.0</td>\n",
              "      <td>6906.0</td>\n",
              "      <td>2186</td>\n",
              "      <td>38.414733</td>\n",
              "      <td>27.143412</td>\n",
              "      <td>-0.422427</td>\n",
              "      <td>-12419.736988</td>\n",
              "      <td>77.245952</td>\n",
              "    </tr>\n",
              "    <tr>\n",
              "      <th>3</th>\n",
              "      <td>1336391342788931585</td>\n",
              "      <td>178.0</td>\n",
              "      <td>1215.0</td>\n",
              "      <td>0.0</td>\n",
              "      <td>15181.0</td>\n",
              "      <td>3485</td>\n",
              "      <td>41.796241</td>\n",
              "      <td>-71.599237</td>\n",
              "      <td>-0.417459</td>\n",
              "      <td>-4143.791449</td>\n",
              "      <td>-21.222679</td>\n",
              "    </tr>\n",
              "    <tr>\n",
              "      <th>4</th>\n",
              "      <td>1336391343166328832</td>\n",
              "      <td>5.0</td>\n",
              "      <td>67.0</td>\n",
              "      <td>0.0</td>\n",
              "      <td>501.0</td>\n",
              "      <td>70</td>\n",
              "      <td>55.860982</td>\n",
              "      <td>-4.248879</td>\n",
              "      <td>-0.423559</td>\n",
              "      <td>-18826.279103</td>\n",
              "      <td>44.042357</td>\n",
              "    </tr>\n",
              "    <tr>\n",
              "      <th>...</th>\n",
              "      <td>...</td>\n",
              "      <td>...</td>\n",
              "      <td>...</td>\n",
              "      <td>...</td>\n",
              "      <td>...</td>\n",
              "      <td>...</td>\n",
              "      <td>...</td>\n",
              "      <td>...</td>\n",
              "      <td>...</td>\n",
              "      <td>...</td>\n",
              "      <td>...</td>\n",
              "    </tr>\n",
              "    <tr>\n",
              "      <th>982160</th>\n",
              "      <td>1336680117431627777</td>\n",
              "      <td>172.0</td>\n",
              "      <td>325.0</td>\n",
              "      <td>0.0</td>\n",
              "      <td>574.0</td>\n",
              "      <td>36</td>\n",
              "      <td>56.786111</td>\n",
              "      <td>-4.114052</td>\n",
              "      <td>-0.422125</td>\n",
              "      <td>-18753.303929</td>\n",
              "      <td>44.068996</td>\n",
              "    </tr>\n",
              "    <tr>\n",
              "      <th>982161</th>\n",
              "      <td>1336680117947551749</td>\n",
              "      <td>21465.0</td>\n",
              "      <td>446.0</td>\n",
              "      <td>0.0</td>\n",
              "      <td>219.0</td>\n",
              "      <td>2171</td>\n",
              "      <td>9.600036</td>\n",
              "      <td>7.999972</td>\n",
              "      <td>-0.411006</td>\n",
              "      <td>-19106.746152</td>\n",
              "      <td>61.573038</td>\n",
              "    </tr>\n",
              "    <tr>\n",
              "      <th>982162</th>\n",
              "      <td>1336680119516065793</td>\n",
              "      <td>29.0</td>\n",
              "      <td>147.0</td>\n",
              "      <td>0.0</td>\n",
              "      <td>2713.0</td>\n",
              "      <td>938</td>\n",
              "      <td>19.587268</td>\n",
              "      <td>-155.426890</td>\n",
              "      <td>-0.423128</td>\n",
              "      <td>-16613.646405</td>\n",
              "      <td>-101.909438</td>\n",
              "    </tr>\n",
              "    <tr>\n",
              "      <th>982163</th>\n",
              "      <td>1336680120443138051</td>\n",
              "      <td>743.0</td>\n",
              "      <td>934.0</td>\n",
              "      <td>0.0</td>\n",
              "      <td>8939.0</td>\n",
              "      <td>862</td>\n",
              "      <td>53.349764</td>\n",
              "      <td>-6.260273</td>\n",
              "      <td>-0.418653</td>\n",
              "      <td>-10387.703511</td>\n",
              "      <td>42.335735</td>\n",
              "    </tr>\n",
              "    <tr>\n",
              "      <th>982164</th>\n",
              "      <td>1336680120795484160</td>\n",
              "      <td>264.0</td>\n",
              "      <td>488.0</td>\n",
              "      <td>0.0</td>\n",
              "      <td>1394.0</td>\n",
              "      <td>2106</td>\n",
              "      <td>51.507322</td>\n",
              "      <td>-0.127647</td>\n",
              "      <td>-0.421226</td>\n",
              "      <td>-17931.793889</td>\n",
              "      <td>48.640640</td>\n",
              "    </tr>\n",
              "  </tbody>\n",
              "</table>\n",
              "<p>982165 rows × 11 columns</p>\n",
              "</div>"
            ],
            "text/plain": [
              "                         Id  Followers_Count  ...   Interaction         Geo\n",
              "0       1336391341069234176            645.0  ...  -2486.385322   54.361599\n",
              "1       1336391341148762112         127586.0  ... -18749.364397  -75.796879\n",
              "2       1336391342734323717            357.0  ... -12419.736988   77.245952\n",
              "3       1336391342788931585            178.0  ...  -4143.791449  -21.222679\n",
              "4       1336391343166328832              5.0  ... -18826.279103   44.042357\n",
              "...                     ...              ...  ...           ...         ...\n",
              "982160  1336680117431627777            172.0  ... -18753.303929   44.068996\n",
              "982161  1336680117947551749          21465.0  ... -19106.746152   61.573038\n",
              "982162  1336680119516065793             29.0  ... -16613.646405 -101.909438\n",
              "982163  1336680120443138051            743.0  ... -10387.703511   42.335735\n",
              "982164  1336680120795484160            264.0  ... -17931.793889   48.640640\n",
              "\n",
              "[982165 rows x 11 columns]"
            ]
          },
          "metadata": {
            "tags": []
          },
          "execution_count": 46
        }
      ]
    },
    {
      "cell_type": "markdown",
      "metadata": {
        "id": "YBqn0cwpjGOo"
      },
      "source": [
        "#### Normalize the clustering features "
      ]
    },
    {
      "cell_type": "markdown",
      "metadata": {
        "id": "ndL1A6jKjGOp"
      },
      "source": [
        "Here we will normalize the axis, so the variabtion of each feature is comparable to the other. "
      ]
    },
    {
      "cell_type": "code",
      "metadata": {
        "id": "McEUSF-jjGOp"
      },
      "source": [
        "clustering_axis = ['Popularity', \"Interaction\", 'Geo']\r\n",
        "scaler = StandardScaler()\r\n",
        "scaler.fit(clustering_data[clustering_axis])\r\n",
        "normalized_clustering_data = scaler.transform(clustering_data[clustering_axis])\r\n",
        "normalized_clustering_data =  pd.DataFrame(normalized_clustering_data, columns = clustering_axis)"
      ],
      "execution_count": null,
      "outputs": []
    },
    {
      "cell_type": "code",
      "metadata": {
        "colab": {
          "base_uri": "https://localhost:8080/"
        },
        "id": "I9gDoqTTjGOq",
        "outputId": "e251aba8-4462-4d49-d501-fa82e0de09db"
      },
      "source": [
        "normalized_clustering_data.head()"
      ],
      "execution_count": null,
      "outputs": [
        {
          "output_type": "execute_result",
          "data": {
            "text/html": [
              "<div>\n",
              "<style scoped>\n",
              "    .dataframe tbody tr th:only-of-type {\n",
              "        vertical-align: middle;\n",
              "    }\n",
              "\n",
              "    .dataframe tbody tr th {\n",
              "        vertical-align: top;\n",
              "    }\n",
              "\n",
              "    .dataframe thead th {\n",
              "        text-align: right;\n",
              "    }\n",
              "</style>\n",
              "<table border=\"1\" class=\"dataframe\">\n",
              "  <thead>\n",
              "    <tr style=\"text-align: right;\">\n",
              "      <th></th>\n",
              "      <th>Popularity</th>\n",
              "      <th>Interaction</th>\n",
              "      <th>Geo</th>\n",
              "    </tr>\n",
              "  </thead>\n",
              "  <tbody>\n",
              "    <tr>\n",
              "      <th>0</th>\n",
              "      <td>-0.377490</td>\n",
              "      <td>-0.046539</td>\n",
              "      <td>0.793207</td>\n",
              "    </tr>\n",
              "    <tr>\n",
              "      <th>1</th>\n",
              "      <td>1.330132</td>\n",
              "      <td>-0.350945</td>\n",
              "      <td>-1.105976</td>\n",
              "    </tr>\n",
              "    <tr>\n",
              "      <th>2</th>\n",
              "      <td>-0.384219</td>\n",
              "      <td>-0.232469</td>\n",
              "      <td>1.127120</td>\n",
              "    </tr>\n",
              "    <tr>\n",
              "      <th>3</th>\n",
              "      <td>-0.379701</td>\n",
              "      <td>-0.077562</td>\n",
              "      <td>-0.309667</td>\n",
              "    </tr>\n",
              "    <tr>\n",
              "      <th>4</th>\n",
              "      <td>-0.385249</td>\n",
              "      <td>-0.352385</td>\n",
              "      <td>0.642636</td>\n",
              "    </tr>\n",
              "  </tbody>\n",
              "</table>\n",
              "</div>"
            ],
            "text/plain": [
              "   Popularity  Interaction       Geo\n",
              "0   -0.377490    -0.046539  0.793207\n",
              "1    1.330132    -0.350945 -1.105976\n",
              "2   -0.384219    -0.232469  1.127120\n",
              "3   -0.379701    -0.077562 -0.309667\n",
              "4   -0.385249    -0.352385  0.642636"
            ]
          },
          "metadata": {
            "tags": []
          },
          "execution_count": 48
        }
      ]
    },
    {
      "cell_type": "code",
      "metadata": {
        "id": "JSQm17mojGOy"
      },
      "source": [
        "weighted_clustering_data= normalized_clustering_data.copy()"
      ],
      "execution_count": null,
      "outputs": []
    },
    {
      "cell_type": "markdown",
      "metadata": {
        "id": "CX-zkiNCjGO2"
      },
      "source": [
        "#### Weight of clustering features in function of their importance"
      ]
    },
    {
      "cell_type": "code",
      "metadata": {
        "id": "74Z0-58zjGO2"
      },
      "source": [
        "weight_coeff = [10, 3, 1]"
      ],
      "execution_count": null,
      "outputs": []
    },
    {
      "cell_type": "code",
      "metadata": {
        "id": "8QL1YAZEjGO2"
      },
      "source": [
        "dico_weight = dict(zip(clustering_axis, weight_coeff))"
      ],
      "execution_count": null,
      "outputs": []
    },
    {
      "cell_type": "code",
      "metadata": {
        "colab": {
          "base_uri": "https://localhost:8080/"
        },
        "id": "HFye8F10jGO3",
        "outputId": "9e671372-fe8a-432e-b592-6b4de6570940"
      },
      "source": [
        "weighted_clustering_data"
      ],
      "execution_count": null,
      "outputs": [
        {
          "output_type": "execute_result",
          "data": {
            "text/html": [
              "<div>\n",
              "<style scoped>\n",
              "    .dataframe tbody tr th:only-of-type {\n",
              "        vertical-align: middle;\n",
              "    }\n",
              "\n",
              "    .dataframe tbody tr th {\n",
              "        vertical-align: top;\n",
              "    }\n",
              "\n",
              "    .dataframe thead th {\n",
              "        text-align: right;\n",
              "    }\n",
              "</style>\n",
              "<table border=\"1\" class=\"dataframe\">\n",
              "  <thead>\n",
              "    <tr style=\"text-align: right;\">\n",
              "      <th></th>\n",
              "      <th>Popularity</th>\n",
              "      <th>Interaction</th>\n",
              "      <th>Geo</th>\n",
              "    </tr>\n",
              "  </thead>\n",
              "  <tbody>\n",
              "    <tr>\n",
              "      <th>0</th>\n",
              "      <td>-0.377490</td>\n",
              "      <td>-0.046539</td>\n",
              "      <td>0.793207</td>\n",
              "    </tr>\n",
              "    <tr>\n",
              "      <th>1</th>\n",
              "      <td>1.330132</td>\n",
              "      <td>-0.350945</td>\n",
              "      <td>-1.105976</td>\n",
              "    </tr>\n",
              "    <tr>\n",
              "      <th>2</th>\n",
              "      <td>-0.384219</td>\n",
              "      <td>-0.232469</td>\n",
              "      <td>1.127120</td>\n",
              "    </tr>\n",
              "    <tr>\n",
              "      <th>3</th>\n",
              "      <td>-0.379701</td>\n",
              "      <td>-0.077562</td>\n",
              "      <td>-0.309667</td>\n",
              "    </tr>\n",
              "    <tr>\n",
              "      <th>4</th>\n",
              "      <td>-0.385249</td>\n",
              "      <td>-0.352385</td>\n",
              "      <td>0.642636</td>\n",
              "    </tr>\n",
              "    <tr>\n",
              "      <th>...</th>\n",
              "      <td>...</td>\n",
              "      <td>...</td>\n",
              "      <td>...</td>\n",
              "    </tr>\n",
              "    <tr>\n",
              "      <th>982160</th>\n",
              "      <td>-0.383945</td>\n",
              "      <td>-0.351019</td>\n",
              "      <td>0.643025</td>\n",
              "    </tr>\n",
              "    <tr>\n",
              "      <th>982161</th>\n",
              "      <td>-0.373832</td>\n",
              "      <td>-0.357635</td>\n",
              "      <td>0.898432</td>\n",
              "    </tr>\n",
              "    <tr>\n",
              "      <th>982162</th>\n",
              "      <td>-0.384857</td>\n",
              "      <td>-0.310969</td>\n",
              "      <td>-1.486993</td>\n",
              "    </tr>\n",
              "    <tr>\n",
              "      <th>982163</th>\n",
              "      <td>-0.380787</td>\n",
              "      <td>-0.194434</td>\n",
              "      <td>0.617734</td>\n",
              "    </tr>\n",
              "    <tr>\n",
              "      <th>982164</th>\n",
              "      <td>-0.383127</td>\n",
              "      <td>-0.335642</td>\n",
              "      <td>0.709731</td>\n",
              "    </tr>\n",
              "  </tbody>\n",
              "</table>\n",
              "<p>982165 rows × 3 columns</p>\n",
              "</div>"
            ],
            "text/plain": [
              "        Popularity  Interaction       Geo\n",
              "0        -0.377490    -0.046539  0.793207\n",
              "1         1.330132    -0.350945 -1.105976\n",
              "2        -0.384219    -0.232469  1.127120\n",
              "3        -0.379701    -0.077562 -0.309667\n",
              "4        -0.385249    -0.352385  0.642636\n",
              "...            ...          ...       ...\n",
              "982160   -0.383945    -0.351019  0.643025\n",
              "982161   -0.373832    -0.357635  0.898432\n",
              "982162   -0.384857    -0.310969 -1.486993\n",
              "982163   -0.380787    -0.194434  0.617734\n",
              "982164   -0.383127    -0.335642  0.709731\n",
              "\n",
              "[982165 rows x 3 columns]"
            ]
          },
          "metadata": {
            "tags": []
          },
          "execution_count": 52
        }
      ]
    },
    {
      "cell_type": "code",
      "metadata": {
        "id": "_K_6WqVqjGO3"
      },
      "source": [
        "for f in weighted_clustering_data:\r\n",
        "  weighted_clustering_data[f] = weighted_clustering_data[f] * dico_weight[f]"
      ],
      "execution_count": null,
      "outputs": []
    },
    {
      "cell_type": "code",
      "metadata": {
        "id": "fv8Pt21MjGO4"
      },
      "source": [
        "users['Popularity Weighted'] =  popularity_axis\r\n",
        "users['Interaction Weighted']  = interaction_axis\r\n",
        "users[\"Geo Weighted\"] = geo_axis"
      ],
      "execution_count": null,
      "outputs": []
    },
    {
      "cell_type": "markdown",
      "metadata": {
        "id": "QBf40fhri8-j"
      },
      "source": [
        "# Autres\r\n"
      ]
    },
    {
      "cell_type": "code",
      "metadata": {
        "id": "rPrRqW82XdWf"
      },
      "source": [
        "import scipy.cluster.hierarchy as shc"
      ],
      "execution_count": null,
      "outputs": []
    },
    {
      "cell_type": "code",
      "metadata": {
        "id": "2vWi6trqXp_l"
      },
      "source": [
        "data_hierarchichal = clustering_data.head(1000)"
      ],
      "execution_count": null,
      "outputs": []
    },
    {
      "cell_type": "code",
      "metadata": {
        "colab": {
          "base_uri": "https://localhost:8080/",
          "height": 444
        },
        "id": "8pCmpHFfXgLI",
        "outputId": "50c49708-e02f-4230-b00e-faab706e719c"
      },
      "source": [
        "plt.figure(figsize=(10, 7))\r\n",
        "plt.title(\"Users Dendograms\")\r\n",
        "dend = shc.dendrogram(shc.linkage(data_hierarchichal , method='ward'))"
      ],
      "execution_count": null,
      "outputs": [
        {
          "output_type": "display_data",
          "data": {
            "image/png": "[encoded data removed]",
            "text/plain": [
              "<Figure size 720x504 with 1 Axes>"
            ]
          },
          "metadata": {
            "tags": [],
            "needs_background": "light"
          }
        }
      ]
    },
    {
      "cell_type": "code",
      "metadata": {
        "colab": {
          "base_uri": "https://localhost:8080/"
        },
        "id": "owRIxVU0hZeR",
        "outputId": "eec9f41a-7a00-48c7-b2b1-e4c477787e62"
      },
      "source": [
        "from sklearn.cluster import AgglomerativeClustering\r\n",
        "cluster = AgglomerativeClustering(n_clusters= 3, affinity='euclidean', linkage='ward')\r\n",
        "cluster.fit_predict(data_hierarchichal)"
      ],
      "execution_count": null,
      "outputs": [
        {
          "output_type": "execute_result",
          "data": {
            "text/plain": [
              "array([1, 1, 1, 1, 1, 1, 1, 1, 1, 1, 1, 1, 1, 1, 1, 1, 1, 1, 1, 1, 1, 1,\n",
              "       1, 1, 1, 1, 1, 1, 1, 1, 1, 1, 1, 1, 1, 1, 1, 1, 1, 1, 1, 1, 1, 1,\n",
              "       1, 1, 1, 1, 1, 1, 1, 1, 1, 1, 1, 1, 1, 1, 1, 1, 1, 1, 1, 1, 1, 1,\n",
              "       1, 1, 1, 1, 1, 1, 1, 1, 1, 1, 1, 1, 1, 1, 1, 1, 1, 1, 1, 1, 1, 1,\n",
              "       1, 1, 1, 1, 1, 1, 1, 1, 1, 1, 1, 1, 1, 1, 1, 1, 1, 1, 1, 1, 1, 1,\n",
              "       1, 1, 1, 1, 1, 1, 1, 1, 1, 1, 1, 1, 1, 1, 1, 1, 1, 1, 1, 1, 1, 1,\n",
              "       1, 1, 1, 1, 1, 1, 1, 1, 1, 1, 1, 1, 1, 1, 1, 1, 1, 1, 1, 1, 1, 1,\n",
              "       1, 1, 1, 1, 1, 1, 1, 1, 1, 1, 1, 1, 1, 1, 1, 1, 1, 1, 1, 1, 1, 1,\n",
              "       1, 1, 1, 1, 1, 1, 1, 1, 1, 1, 1, 1, 1, 1, 1, 1, 1, 1, 1, 1, 1, 1,\n",
              "       1, 1, 1, 1, 1, 1, 1, 1, 1, 1, 1, 1, 1, 1, 1, 1, 1, 1, 1, 1, 1, 1,\n",
              "       1, 1, 1, 1, 1, 1, 1, 1, 1, 1, 1, 1, 1, 1, 1, 1, 1, 1, 1, 1, 1, 1,\n",
              "       1, 1, 1, 1, 1, 1, 1, 1, 1, 1, 1, 1, 1, 1, 1, 1, 1, 1, 1, 1, 1, 1,\n",
              "       1, 1, 1, 1, 1, 1, 1, 1, 1, 1, 1, 1, 1, 1, 1, 1, 1, 1, 1, 1, 1, 1,\n",
              "       1, 1, 1, 1, 1, 1, 1, 1, 1, 1, 1, 1, 1, 1, 1, 1, 1, 1, 1, 1, 1, 1,\n",
              "       1, 1, 1, 1, 1, 1, 1, 1, 1, 1, 1, 1, 1, 1, 1, 1, 1, 1, 1, 1, 1, 1,\n",
              "       1, 1, 1, 1, 1, 1, 1, 1, 1, 1, 1, 1, 1, 1, 2, 2, 2, 2, 2, 2, 2, 2,\n",
              "       2, 2, 2, 2, 2, 2, 2, 2, 2, 2, 2, 2, 2, 2, 2, 2, 2, 2, 2, 2, 2, 2,\n",
              "       2, 2, 2, 2, 2, 2, 2, 2, 2, 2, 2, 2, 2, 2, 2, 2, 2, 2, 2, 2, 2, 2,\n",
              "       2, 2, 2, 2, 2, 2, 2, 2, 2, 2, 2, 2, 2, 2, 2, 2, 2, 2, 2, 2, 2, 2,\n",
              "       2, 2, 2, 2, 2, 2, 2, 2, 2, 2, 2, 2, 2, 2, 2, 2, 2, 2, 2, 2, 2, 2,\n",
              "       2, 2, 2, 2, 2, 2, 2, 2, 2, 2, 2, 2, 2, 2, 2, 2, 2, 2, 2, 2, 2, 2,\n",
              "       2, 2, 2, 2, 2, 2, 2, 2, 2, 2, 2, 2, 2, 2, 2, 2, 2, 2, 2, 2, 2, 2,\n",
              "       2, 2, 2, 2, 2, 2, 2, 2, 2, 2, 2, 2, 2, 2, 2, 2, 2, 2, 2, 2, 2, 2,\n",
              "       2, 2, 2, 2, 2, 2, 2, 2, 2, 2, 2, 2, 2, 2, 2, 2, 2, 2, 2, 2, 2, 2,\n",
              "       2, 2, 2, 2, 2, 2, 2, 2, 2, 2, 2, 2, 2, 2, 2, 2, 2, 2, 2, 2, 2, 2,\n",
              "       2, 2, 2, 2, 2, 2, 2, 2, 2, 2, 2, 2, 2, 2, 2, 2, 2, 2, 2, 2, 2, 2,\n",
              "       2, 2, 2, 2, 2, 2, 2, 2, 2, 2, 2, 2, 2, 2, 2, 2, 2, 2, 2, 2, 2, 2,\n",
              "       2, 2, 2, 2, 2, 2, 2, 2, 2, 2, 2, 2, 2, 2, 2, 2, 2, 2, 2, 2, 2, 2,\n",
              "       2, 2, 2, 2, 2, 2, 2, 0, 0, 0, 0, 0, 0, 0, 0, 0, 0, 0, 0, 0, 0, 0,\n",
              "       0, 0, 0, 0, 0, 0, 0, 0, 0, 0, 0, 0, 0, 0, 0, 0, 0, 0, 0, 0, 0, 0,\n",
              "       0, 0, 0, 0, 0, 0, 0, 0, 0, 0, 0, 0, 0, 0, 0, 0, 0, 0, 0, 0, 0, 0,\n",
              "       0, 0, 0, 0, 0, 0, 0, 0, 0, 0, 0, 0, 0, 0, 0, 0, 0, 0, 0, 0, 0, 0,\n",
              "       0, 0, 0, 0, 0, 0, 0, 0, 0, 0, 0, 0, 0, 0, 0, 0, 0, 0, 0, 0, 0, 0,\n",
              "       0, 0, 0, 0, 0, 0, 0, 0, 0, 0, 0, 0, 0, 0, 0, 0, 0, 0, 0, 0, 0, 0,\n",
              "       0, 0, 0, 0, 0, 0, 0, 0, 0, 0, 0, 0, 0, 0, 0, 0, 0, 0, 0, 0, 0, 0,\n",
              "       0, 0, 0, 0, 0, 0, 0, 0, 0, 0, 0, 0, 0, 0, 0, 0, 0, 0, 0, 0, 0, 0,\n",
              "       0, 0, 0, 0, 0, 0, 0, 0, 0, 0, 0, 0, 0, 0, 0, 0, 0, 0, 0, 0, 0, 0,\n",
              "       0, 0, 0, 0, 0, 0, 0, 0, 0, 0, 0, 0, 0, 0, 0, 0, 0, 0, 0, 0, 0, 0,\n",
              "       0, 0, 0, 0, 0, 0, 0, 0, 0, 0, 0, 0, 0, 0, 0, 0, 0, 0, 0, 0, 0, 0,\n",
              "       0, 0, 0, 0, 0, 0, 0, 0, 0, 0, 0, 0, 0, 0, 0, 0, 0, 0, 0, 0, 0, 0,\n",
              "       0, 0, 0, 0, 0, 0, 0, 0, 0, 0, 0, 0, 0, 0, 0, 0, 0, 0, 0, 0, 0, 0,\n",
              "       0, 0, 0, 0, 0, 0, 0, 0, 0, 0, 0, 0, 0, 0, 0, 0, 0, 0, 0, 0, 0, 0,\n",
              "       0, 0, 0, 0, 0, 0, 0, 0, 0, 0, 0, 0, 0, 0, 0, 0, 0, 0, 0, 0, 0, 0,\n",
              "       0, 0, 0, 0, 0, 0, 0, 0, 0, 0, 0, 0, 0, 0, 0, 0, 0, 0, 0, 0, 0, 0,\n",
              "       0, 0, 0, 0, 0, 0, 0, 0, 0, 0, 0, 0, 0, 0, 0, 0, 0, 0, 0, 0, 0, 0,\n",
              "       0, 0, 0, 0, 0, 0, 0, 0, 0, 0])"
            ]
          },
          "metadata": {
            "tags": []
          },
          "execution_count": 57
        }
      ]
    },
    {
      "cell_type": "markdown",
      "metadata": {
        "id": "_PMdceWbawHx"
      },
      "source": [
        "# Others"
      ]
    },
    {
      "cell_type": "markdown",
      "metadata": {
        "id": "70xyPCN4vgfD"
      },
      "source": [
        "## Data dictionnary"
      ]
    },
    {
      "cell_type": "markdown",
      "metadata": {
        "id": "g_w1T4brQS5i"
      },
      "source": [
        "- id\r\n",
        "id\tInt64\tThe integer representation of the unique identifier for this User. This number is greater than 53 bits and some programming languages may have difficulty/silent defects in interpreting it. Using a signed 64 bit integer for storing this identifier is safe. Use id_str to fetch the identifier to be safe. See Twitter IDs for more information. Example:\r\n",
        "\t\t \r\n",
        "\t\t\"id\": 6253282\r\n",
        "\r\n",
        "- name\t\t \r\n",
        "name\tString\tThe name of the user, as they’ve defined it. Not necessarily a person’s name. Typically capped at 50 characters, but subject to change. Example:\r\n",
        "\t\t \r\n",
        "\t\t\"name\": \"Twitter API\"\r\n",
        "- screen_name\t \r\n",
        "screen_name\tString\tThe screen name, handle, or alias that this user identifies themselves with. screen_names are unique but subject to change. Use id_str as a user identifier whenever possible. Typically a maximum of 15 characters long, but some historical accounts may exist with longer names. Example:\r\n",
        "\t\t \r\n",
        "\t\t\"screen_name\": \"twitterapi\"\r\n",
        "- location\t \r\n",
        "location\tString\tNullable . The user-defined location for this account’s profile. Not necessarily a location, nor machine-parseable. This field will occasionally be fuzzily interpreted by the Search service. Example:\r\n",
        "\t\t \r\n",
        "\t\t\"location\": \"San Francisco, CA\"\r\n",
        "- description\t\t \r\n",
        "description\tString\tNullable . The user-defined UTF-8 string describing their account. Example:\r\n",
        "\t\t \r\n",
        "\t\t\"description\": \"The Real Twitter API.\"\r\n",
        "- verified\t\t \r\n",
        "verified\tBoolean\tWhen true, indicates that the user has a verified account. See Verified Accounts . Example:\r\n",
        "\t\t \r\n",
        "\t\t\"verified\": false\r\n",
        "- followers_count\t\t \r\n",
        "followers_count\tInt\tThe number of followers this account currently has. Under certain conditions of duress, this field will temporarily indicate “0”. Example:\r\n",
        "\t\t \r\n",
        "\t\t\"followers_count\": 21\r\n",
        "- friends_count\t \r\n",
        "friends_count\tInt\tThe number of users this account is following (AKA their “followings”). Under certain conditions of duress, this field will temporarily indicate “0”. Example:\r\n",
        "\t\t \r\n",
        "\t\t\"friends_count\": 32\r\n",
        "- favourites_count\t \r\n",
        "favourites_count\tInt\tThe number of Tweets this user has liked in the account’s lifetime. British spelling used in the field name for historical reasons. Example:\r\n",
        "\t\t \r\n",
        "\t\t\"favourites_count\": 13\r\n",
        "- created_at\t\t \r\n",
        "created_at\tString\tThe UTC datetime that the user account was created on Twitter. Example:\r\n",
        "\t\t \r\n",
        "\t\t\"created_at\": \"Mon Nov 29 21:18:15 +0000 2010\"\r\n",
        "\t\t \r\n"
      ]
    },
    {
      "cell_type": "markdown",
      "metadata": {
        "id": "AvfF9QqmikBQ"
      },
      "source": [
        " From https://developer.twitter.com/en/docs/twitter-api/v1/data-dictionary/overview/user-object"
      ]
    },
    {
      "cell_type": "markdown",
      "metadata": {
        "id": "sXXytKgGi2AD"
      },
      "source": [
        "The Id is the integer representation of the unique identifier for a twitter user"
      ]
    }
  ]
}